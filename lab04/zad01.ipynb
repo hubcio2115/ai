{
 "cells": [
  {
   "cell_type": "code",
   "execution_count": 5,
   "metadata": {},
   "outputs": [],
   "source": [
    "import math\n",
    "\n",
    "def endurance(x, y, z, u, v, w):\n",
    "    return math.exp(-2*(y-math.sin(x))**2) + math.sin(z*u) + math.cos(v*w)"
   ]
  },
  {
   "cell_type": "code",
   "execution_count": 6,
   "metadata": {},
   "outputs": [
    {
     "name": "stderr",
     "output_type": "stream",
     "text": [
      "2023-03-23 10:59:14,508 - pyswarms.single.global_best - INFO - Optimize for 1000 iters with {'c1': 0.5, 'c2': 0.3, 'w': 0.9}\n",
      "pyswarms.single.global_best: 100%|██████████|1000/1000, best_cost=2.08\n",
      "2023-03-23 10:59:15,127 - pyswarms.single.global_best - INFO - Optimization finished | best cost: 2.0837254883868788, best pos: [1.0087536  1.03254136]\n"
     ]
    },
    {
     "data": {
      "text/plain": [
       "(2.0837254883868788, array([1.0087536 , 1.03254136]))"
      ]
     },
     "execution_count": 6,
     "metadata": {},
     "output_type": "execute_result"
    }
   ],
   "source": [
    "import pyswarms as ps\n",
    "from pyswarms.utils.functions import single_obj as fx\n",
    "\n",
    "options = {'c1': 0.5, 'c2': 0.3, 'w': 0.9}\n",
    "\n",
    "x_max = [2, 2]\n",
    "x_min = [1, 1]\n",
    "my_bounds = (x_min, x_max)\n",
    "\n",
    "optimizer = ps.single.GlobalBestPSO(n_particles=10, dimensions=2, options=options, bounds=my_bounds)\n",
    "optimizer.optimize(fx.sphere, iters=1000)"
   ]
  }
 ],
 "metadata": {
  "kernelspec": {
   "display_name": ".venv",
   "language": "python",
   "name": "python3"
  },
  "language_info": {
   "codemirror_mode": {
    "name": "ipython",
    "version": 3
   },
   "file_extension": ".py",
   "mimetype": "text/x-python",
   "name": "python",
   "nbconvert_exporter": "python",
   "pygments_lexer": "ipython3",
   "version": "3.11.2"
  },
  "orig_nbformat": 4
 },
 "nbformat": 4,
 "nbformat_minor": 2
}
