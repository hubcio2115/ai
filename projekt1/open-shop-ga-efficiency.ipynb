{
 "cells": [
  {
   "attachments": {},
   "cell_type": "markdown",
   "metadata": {},
   "source": [
    "# Testing Efficiency\n",
    "\n",
    "Now we continue to testing the GA algorithm. We will run it 100 times for each level of complexity for the same inputs in each iteration. We will test time and how accurate is it.\n"
   ]
  },
  {
   "attachments": {},
   "cell_type": "markdown",
   "metadata": {},
   "source": [
    "This is just variables needed to init our GA instances\n"
   ]
  },
  {
   "cell_type": "code",
   "execution_count": 1,
   "metadata": {},
   "outputs": [],
   "source": [
    "from commons import *\n",
    "processing_times = m1"
   ]
  },
  {
   "cell_type": "code",
   "execution_count": 2,
   "metadata": {},
   "outputs": [],
   "source": [
    "gene_space = np.arange(1, len(processing_times) + 1, 1)\n",
    "sol_per_pop = 100\n",
    "num_genes = len(processing_times) * len(processing_times[0])\n",
    "\n",
    "num_parents_mating = 20\n",
    "num_generations = 100\n",
    "keep_parents = 10\n",
    "\n",
    "parent_selection_type = \"rank\"\n",
    "\n",
    "crossover_type = \"single_point\"\n",
    "\n",
    "mutation_type = \"random\"\n",
    "mutation_percent_genes = 10"
   ]
  },
  {
   "cell_type": "code",
   "execution_count": 3,
   "metadata": {},
   "outputs": [],
   "source": [
    "def fitness_func(solution: list[int], solution_idx: int = 0) -> int:\n",
    "    number_of_jobs = len(processing_times)\n",
    "    number_of_machines = len(processing_times[0])\n",
    "\n",
    "    schedule: list[list[int]] = solution.reshape(\n",
    "        number_of_jobs, number_of_machines)\n",
    "    machine_times = np.zeros(number_of_machines)\n",
    "\n",
    "    for i in range(len(schedule)):\n",
    "        for j in range(len(schedule)):\n",
    "            machine_idx = schedule[i, j]\n",
    "            machine_times[machine_idx - 1] += processing_times[i, j]\n",
    "\n",
    "    return -np.max(machine_times)"
   ]
  },
  {
   "attachments": {},
   "cell_type": "markdown",
   "metadata": {},
   "source": [
    "Here are the tests for 5x5 matrix\n"
   ]
  },
  {
   "cell_type": "code",
   "execution_count": 4,
   "metadata": {},
   "outputs": [
    {
     "name": "stdout",
     "output_type": "stream",
     "text": [
      "Accuracy: 85.0%\n",
      "Average time: 31.307186799890857ms\n"
     ]
    }
   ],
   "source": [
    "import time\n",
    "import pygad as pg\n",
    "\n",
    "# init our array when we store our results\n",
    "times_5x5: list[float] = []\n",
    "results_5x5: list[float] = []\n",
    "# run 100 times\n",
    "for _ in range(100):\n",
    "    # init GA instance\n",
    "    ga_instance = pg.GA(\n",
    "        num_generations=num_generations,\n",
    "        num_parents_mating=num_parents_mating,\n",
    "        fitness_func=fitness_func,\n",
    "        sol_per_pop=sol_per_pop,\n",
    "        num_genes=num_genes,\n",
    "        gene_space=gene_space,\n",
    "        gene_type=int,\n",
    "        parent_selection_type=parent_selection_type,\n",
    "        keep_parents=keep_parents,\n",
    "        crossover_type=crossover_type,\n",
    "        mutation_type=mutation_type,\n",
    "        stop_criteria=\"saturate_7\",\n",
    "        mutation_percent_genes=mutation_percent_genes,\n",
    "    )\n",
    "    start = time.time()\n",
    "    ga_instance.run()\n",
    "    end = time.time()\n",
    "\n",
    "    times_5x5.append(end - start)\n",
    "    results_5x5.append(ga_instance.best_solution()[1])\n",
    "\n",
    "# Get only results that are better than -245\n",
    "# this is abstract value if we want better accuracy we can decrease our threshold\n",
    "good_results_5x5: list[list[int, float]] = []\n",
    "for i in range(len(results_5x5)):\n",
    "    if results_5x5[i] > -247.0:\n",
    "        good_results_5x5.append((i, results_5x5[i]))\n",
    "\n",
    "accuracy_5x5 = len(good_results_5x5) / len(results_5x5) * 100\n",
    "print(f\"Accuracy: {accuracy_5x5}%\")\n",
    "\n",
    "# Get times of good results\n",
    "good_times_5x5 = [times_5x5[i] for i, _ in good_results_5x5]\n",
    "good_times_5x5_mean = np.mean(good_times_5x5) * 1000\n",
    "print(f\"Average time: {good_times_5x5_mean}ms\")\n"
   ]
  },
  {
   "attachments": {},
   "cell_type": "markdown",
   "metadata": {},
   "source": [
    "We proceed to matrix of 10x10\n"
   ]
  },
  {
   "cell_type": "code",
   "execution_count": 5,
   "metadata": {},
   "outputs": [],
   "source": [
    "processing_times = m4\n",
    "\n",
    "num_genes = len(processing_times) * len(processing_times[0])\n",
    "sol_per_pop = 300\n",
    "\n",
    "\n",
    "def fitness_func(solution: list[int], solution_idx: int = 0) -> int:\n",
    "    number_of_jobs = len(processing_times)\n",
    "    number_of_machines = len(processing_times[0])\n",
    "\n",
    "    schedule: list[list[int]] = solution.reshape(\n",
    "        number_of_jobs, number_of_machines)\n",
    "    machine_times = np.zeros(number_of_machines)\n",
    "\n",
    "    for i in range(len(schedule)):\n",
    "        for j in range(len(schedule)):\n",
    "            machine_idx = schedule[i, j]\n",
    "            machine_times[machine_idx - 1] += processing_times[i, j]\n",
    "\n",
    "    return -np.max(machine_times)"
   ]
  },
  {
   "cell_type": "code",
   "execution_count": 6,
   "metadata": {},
   "outputs": [
    {
     "name": "stdout",
     "output_type": "stream",
     "text": [
      "Accuracy: 88.0%\n",
      "Average time: 237.35677925023165ms\n"
     ]
    }
   ],
   "source": [
    "times_10x10: list[float] = []\n",
    "results_10x10: list[float] = []\n",
    "for _ in range(100):\n",
    "    ga_instance = pg.GA(\n",
    "        num_generations=num_generations,\n",
    "        num_parents_mating=num_parents_mating,\n",
    "        fitness_func=fitness_func,\n",
    "        sol_per_pop=sol_per_pop,\n",
    "        num_genes=num_genes,\n",
    "        gene_space=gene_space,\n",
    "        gene_type=int,\n",
    "        parent_selection_type=parent_selection_type,\n",
    "        keep_parents=keep_parents,\n",
    "        crossover_type=crossover_type,\n",
    "        mutation_type=mutation_type,\n",
    "        stop_criteria=\"saturate_7\",\n",
    "        mutation_percent_genes=mutation_percent_genes,\n",
    "    )\n",
    "    start = time.time()\n",
    "    ga_instance.run()\n",
    "    end = time.time()\n",
    "\n",
    "    times_10x10.append(end - start)\n",
    "    results_10x10.append(ga_instance.best_solution()[1])\n",
    "\n",
    "good_results_10x10: list[list[int, float]] = []\n",
    "for i in range(len(results_10x10)):\n",
    "    if results_10x10[i] > -1010.0:\n",
    "        good_results_10x10.append((i, results_10x10[i]))\n",
    "\n",
    "accuracy_10x10 = len(good_results_10x10) / len(results_10x10) * 100\n",
    "print(f\"Accuracy: {accuracy_10x10}%\")\n",
    "\n",
    "good_times_10x10 = [times_10x10[i] for i, _ in good_results_10x10]\n",
    "good_times_10x10_mean = np.mean(good_times_10x10) * 1000\n",
    "print(f\"Average time: {good_times_10x10_mean}ms\")\n"
   ]
  },
  {
   "attachments": {},
   "cell_type": "markdown",
   "metadata": {},
   "source": [
    "Now for matrices of 15x15\n"
   ]
  },
  {
   "cell_type": "code",
   "execution_count": 7,
   "metadata": {},
   "outputs": [],
   "source": [
    "processing_times = m7\n",
    "\n",
    "num_genes = len(processing_times) * len(processing_times[0])\n",
    "sol_per_pop = 300\n",
    "\n",
    "\n",
    "def fitness_func(solution: list[int], solution_idx: int = 0) -> int:\n",
    "    number_of_jobs = len(processing_times)\n",
    "    number_of_machines = len(processing_times[0])\n",
    "\n",
    "    schedule: list[list[int]] = solution.reshape(\n",
    "        number_of_jobs, number_of_machines)\n",
    "    machine_times = np.zeros(number_of_machines)\n",
    "\n",
    "    for i in range(len(schedule)):\n",
    "        for j in range(len(schedule)):\n",
    "            machine_idx = schedule[i, j]\n",
    "            machine_times[machine_idx - 1] += processing_times[i, j]\n",
    "\n",
    "    return -np.max(machine_times)"
   ]
  },
  {
   "cell_type": "code",
   "execution_count": 8,
   "metadata": {},
   "outputs": [
    {
     "name": "stdout",
     "output_type": "stream",
     "text": [
      "Accuracy: 84.0%\n",
      "Average time: 485.2387791588193ms\n"
     ]
    }
   ],
   "source": [
    "times_15x15: list[float] = []\n",
    "results_15x15: list[float] = []\n",
    "for _ in range(100):\n",
    "    ga_instance = pg.GA(\n",
    "        num_generations=num_generations,\n",
    "        num_parents_mating=num_parents_mating,\n",
    "        fitness_func=fitness_func,\n",
    "        sol_per_pop=sol_per_pop,\n",
    "        num_genes=num_genes,\n",
    "        gene_space=gene_space,\n",
    "        gene_type=int,\n",
    "        parent_selection_type=parent_selection_type,\n",
    "        keep_parents=keep_parents,\n",
    "        crossover_type=crossover_type,\n",
    "        mutation_type=mutation_type,\n",
    "        stop_criteria=\"saturate_7\",\n",
    "        mutation_percent_genes=mutation_percent_genes,\n",
    "    )\n",
    "    start = time.time()\n",
    "    ga_instance.run()\n",
    "    end = time.time()\n",
    "\n",
    "    times_15x15.append(end - start)\n",
    "    results_15x15.append(ga_instance.best_solution()[1])\n",
    "\n",
    "good_results_15x15: list[list[int, float]] = []\n",
    "for i in range(len(results_15x15)):\n",
    "    if results_15x15[i] > -2350.0:\n",
    "        good_results_15x15.append((i, results_15x15[i]))\n",
    "\n",
    "accuracy_15x15 = len(good_results_15x15) / len(results_15x15) * 100\n",
    "print(f\"Accuracy: {accuracy_15x15}%\")\n",
    "\n",
    "good_times_15x15 = [times_15x15[i] for i, _ in good_results_15x15]\n",
    "good_times_15x15_mean = np.mean(good_times_15x15) * 1000\n",
    "print(f\"Average time: {good_times_15x15_mean}ms\")\n"
   ]
  },
  {
   "cell_type": "code",
   "execution_count": 9,
   "metadata": {},
   "outputs": [
    {
     "data": {
      "text/html": [
       "<div>\n",
       "<style scoped>\n",
       "    .dataframe tbody tr th:only-of-type {\n",
       "        vertical-align: middle;\n",
       "    }\n",
       "\n",
       "    .dataframe tbody tr th {\n",
       "        vertical-align: top;\n",
       "    }\n",
       "\n",
       "    .dataframe thead th {\n",
       "        text-align: right;\n",
       "    }\n",
       "</style>\n",
       "<table border=\"1\" class=\"dataframe\">\n",
       "  <thead>\n",
       "    <tr style=\"text-align: right;\">\n",
       "      <th></th>\n",
       "      <th>5x5.accuracy</th>\n",
       "      <th>5x5.good_times_mean</th>\n",
       "      <th>10x10.accuracy</th>\n",
       "      <th>10x10.good_times_mean</th>\n",
       "      <th>15x15.accuracy</th>\n",
       "      <th>15x15.good_times_mean</th>\n",
       "    </tr>\n",
       "  </thead>\n",
       "  <tbody>\n",
       "    <tr>\n",
       "      <th>0</th>\n",
       "      <td>85.0</td>\n",
       "      <td>31.307187</td>\n",
       "      <td>88.0</td>\n",
       "      <td>237.356779</td>\n",
       "      <td>84.0</td>\n",
       "      <td>485.238779</td>\n",
       "    </tr>\n",
       "  </tbody>\n",
       "</table>\n",
       "</div>"
      ],
      "text/plain": [
       "   5x5.accuracy  5x5.good_times_mean  10x10.accuracy  10x10.good_times_mean  \\\n",
       "0          85.0            31.307187            88.0             237.356779   \n",
       "\n",
       "   15x15.accuracy  15x15.good_times_mean  \n",
       "0            84.0             485.238779  "
      ]
     },
     "metadata": {},
     "output_type": "display_data"
    }
   ],
   "source": [
    "from pandas import DataFrame\n",
    "\n",
    "d = {\"5x5.accuracy\": [accuracy_5x5], \"5x5.good_times_mean\": [good_times_5x5_mean], \"10x10.accuracy\": [accuracy_10x10],\n",
    "     \"10x10.good_times_mean\": [good_times_10x10_mean], \"15x15.accuracy\": [accuracy_15x15], \"15x15.good_times_mean\": [good_times_15x15_mean]}\n",
    "df = DataFrame(data=d)\n",
    "\n",
    "display(df)\n"
   ]
  },
  {
   "attachments": {},
   "cell_type": "markdown",
   "metadata": {},
   "source": [
    "### Time\n",
    "\n",
    "Overall time is even better from what we assumed at the start. For most complex problems the answers is returned on average in less than 500ms which is exemplary.\n"
   ]
  },
  {
   "cell_type": "code",
   "execution_count": 10,
   "metadata": {},
   "outputs": [
    {
     "data": {
      "text/plain": [
       "<Axes: title={'center': 'Mean Time'}, xlabel='Time (ms)'>"
      ]
     },
     "execution_count": 10,
     "metadata": {},
     "output_type": "execute_result"
    },
    {
     "data": {
      "image/png": "[encoded data removed]",
      "text/plain": [
       "<Figure size 640x480 with 1 Axes>"
      ]
     },
     "metadata": {},
     "output_type": "display_data"
    }
   ],
   "source": [
    "df.plot.barh(y=[\"5x5.good_times_mean\", \"10x10.good_times_mean\",\n",
    "             \"15x15.good_times_mean\"], title=\"Mean Time\", xlabel=\"Time (ms)\")\n"
   ]
  },
  {
   "attachments": {},
   "cell_type": "markdown",
   "metadata": {},
   "source": [
    "### Accuracy\n",
    "\n",
    "Since this is an open problem, that means we have a lot of answers that would have the same time, we cannot objectively say that our algorithm is good.\n",
    "\n",
    "We can say that it is good to based on our requirements of time (since fitness is based on overall time to finish all of the jobs) but we can use it to compare it to other algorithms, like PSA. Which we will do right now.\n"
   ]
  }
 ],
 "metadata": {
  "kernelspec": {
   "display_name": ".venv",
   "language": "python",
   "name": "python3"
  },
  "language_info": {
   "codemirror_mode": {
    "name": "ipython",
    "version": 3
   },
   "file_extension": ".py",
   "mimetype": "text/x-python",
   "name": "python",
   "nbconvert_exporter": "python",
   "pygments_lexer": "ipython3",
   "version": "3.11.3"
  },
  "orig_nbformat": 4
 },
 "nbformat": 4,
 "nbformat_minor": 2
}
