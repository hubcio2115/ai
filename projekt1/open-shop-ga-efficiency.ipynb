{
 "cells": [
  {
   "attachments": {},
   "cell_type": "markdown",
   "metadata": {},
   "source": [
    "# Testing Efficiency\n",
    "\n",
    "Now we continue to testing the GA algorithm. We will run it 100 times for each level of complexity for the same inputs in each iteration. We will test time and how accurate is it.\n"
   ]
  },
  {
   "attachments": {},
   "cell_type": "markdown",
   "metadata": {},
   "source": [
    "This is just variables needed to init our GA instances\n"
   ]
  },
  {
   "cell_type": "code",
   "execution_count": 2,
   "metadata": {},
   "outputs": [],
   "source": [
    "from commons import *\n",
    "processing_times = m1"
   ]
  },
  {
   "cell_type": "code",
   "execution_count": 3,
   "metadata": {},
   "outputs": [],
   "source": [
    "gene_space = np.arange(1, len(processing_times) + 1, 1)\n",
    "sol_per_pop = 100\n",
    "num_genes = len(processing_times) * len(processing_times[0])\n",
    "\n",
    "num_parents_mating = 20\n",
    "num_generations = 100\n",
    "keep_parents = 10\n",
    "\n",
    "parent_selection_type = \"rank\"\n",
    "\n",
    "crossover_type = \"single_point\"\n",
    "\n",
    "mutation_type = \"random\"\n",
    "mutation_percent_genes = 10"
   ]
  },
  {
   "cell_type": "code",
   "execution_count": 4,
   "metadata": {},
   "outputs": [],
   "source": [
    "def fitness_func(solution: list[int], solution_idx: int = 0) -> int:\n",
    "    number_of_jobs = len(processing_times)\n",
    "    number_of_machines = len(processing_times[0])\n",
    "\n",
    "    schedule: list[list[int]] = solution.reshape(\n",
    "        number_of_jobs, number_of_machines)\n",
    "    machine_times = np.zeros(number_of_machines)\n",
    "\n",
    "    for i in range(len(schedule)):\n",
    "        for j in range(len(schedule)):\n",
    "            machine_idx = schedule[i, j]\n",
    "            machine_times[machine_idx - 1] += processing_times[i, j]\n",
    "\n",
    "    return -np.max(machine_times)"
   ]
  },
  {
   "attachments": {},
   "cell_type": "markdown",
   "metadata": {},
   "source": [
    "Here are the tests for 5x5 matrix\n"
   ]
  },
  {
   "cell_type": "code",
   "execution_count": 5,
   "metadata": {},
   "outputs": [
    {
     "name": "stdout",
     "output_type": "stream",
     "text": [
      "Accuracy: 93.0%\n",
      "Average time: 33.048381087600546ms\n"
     ]
    }
   ],
   "source": [
    "import time\n",
    "import pygad as pg\n",
    "\n",
    "# init our array when we store our results\n",
    "times_5x5: list[float] = []\n",
    "results_5x5: list[float] = []\n",
    "# run 100 times\n",
    "for _ in range(100):\n",
    "    # init GA instance\n",
    "    ga_instance = pg.GA(\n",
    "        num_generations=num_generations,\n",
    "        num_parents_mating=num_parents_mating,\n",
    "        fitness_func=fitness_func,\n",
    "        sol_per_pop=sol_per_pop,\n",
    "        num_genes=num_genes,\n",
    "        gene_space=gene_space,\n",
    "        gene_type=int,\n",
    "        parent_selection_type=parent_selection_type,\n",
    "        keep_parents=keep_parents,\n",
    "        crossover_type=crossover_type,\n",
    "        mutation_type=mutation_type,\n",
    "        stop_criteria=\"saturate_7\",\n",
    "        mutation_percent_genes=mutation_percent_genes,\n",
    "    )\n",
    "    start = time.time()\n",
    "    ga_instance.run()\n",
    "    end = time.time()\n",
    "\n",
    "    times_5x5.append(end - start)\n",
    "    results_5x5.append(ga_instance.best_solution()[1])\n",
    "\n",
    "# Get only results that are better than -245\n",
    "# this is abstract value if we want better accuracy we can decrease our threshold\n",
    "good_results_5x5: list[list[int, float]] = []\n",
    "for i in range(len(results_5x5)):\n",
    "    if results_5x5[i] > -247.0:\n",
    "        good_results_5x5.append((i, results_5x5[i]))\n",
    "\n",
    "accuracy_5x5 = len(good_results_5x5) / len(results_5x5) * 100\n",
    "print(f\"Accuracy: {accuracy_5x5}%\")\n",
    "\n",
    "# Get times of good results\n",
    "good_times_5x5 = [times_5x5[i] for i, _ in good_results_5x5]\n",
    "good_times_5x5_mean = np.mean(good_times_5x5) * 1000\n",
    "print(f\"Average time: {good_times_5x5_mean}ms\")\n"
   ]
  },
  {
   "attachments": {},
   "cell_type": "markdown",
   "metadata": {},
   "source": [
    "We proceed to matrix of 10x10\n"
   ]
  },
  {
   "cell_type": "code",
   "execution_count": 6,
   "metadata": {},
   "outputs": [],
   "source": [
    "processing_times = m4\n",
    "\n",
    "num_genes = len(processing_times) * len(processing_times[0])\n",
    "sol_per_pop = 300\n",
    "\n",
    "\n",
    "def fitness_func(solution: list[int], solution_idx: int = 0) -> int:\n",
    "    number_of_jobs = len(processing_times)\n",
    "    number_of_machines = len(processing_times[0])\n",
    "\n",
    "    schedule: list[list[int]] = solution.reshape(\n",
    "        number_of_jobs, number_of_machines)\n",
    "    machine_times = np.zeros(number_of_machines)\n",
    "\n",
    "    for i in range(len(schedule)):\n",
    "        for j in range(len(schedule)):\n",
    "            machine_idx = schedule[i, j]\n",
    "            machine_times[machine_idx - 1] += processing_times[i, j]\n",
    "\n",
    "    return -np.max(machine_times)"
   ]
  },
  {
   "cell_type": "code",
   "execution_count": 7,
   "metadata": {},
   "outputs": [
    {
     "name": "stdout",
     "output_type": "stream",
     "text": [
      "Accuracy: 83.0%\n",
      "Average time: 291.9418897973486ms\n"
     ]
    }
   ],
   "source": [
    "times_10x10: list[float] = []\n",
    "results_10x10: list[float] = []\n",
    "for _ in range(100):\n",
    "    ga_instance = pg.GA(\n",
    "        num_generations=num_generations,\n",
    "        num_parents_mating=num_parents_mating,\n",
    "        fitness_func=fitness_func,\n",
    "        sol_per_pop=sol_per_pop,\n",
    "        num_genes=num_genes,\n",
    "        gene_space=gene_space,\n",
    "        gene_type=int,\n",
    "        parent_selection_type=parent_selection_type,\n",
    "        keep_parents=keep_parents,\n",
    "        crossover_type=crossover_type,\n",
    "        mutation_type=mutation_type,\n",
    "        stop_criteria=\"saturate_7\",\n",
    "        mutation_percent_genes=mutation_percent_genes,\n",
    "    )\n",
    "    start = time.time()\n",
    "    ga_instance.run()\n",
    "    end = time.time()\n",
    "\n",
    "    times_10x10.append(end - start)\n",
    "    results_10x10.append(ga_instance.best_solution()[1])\n",
    "\n",
    "good_results_10x10: list[list[int, float]] = []\n",
    "for i in range(len(results_10x10)):\n",
    "    if results_10x10[i] > -1010.0:\n",
    "        good_results_10x10.append((i, results_10x10[i]))\n",
    "\n",
    "accuracy_10x10 = len(good_results_10x10) / len(results_10x10) * 100\n",
    "print(f\"Accuracy: {accuracy_10x10}%\")\n",
    "\n",
    "good_times_10x10 = [times_10x10[i] for i, _ in good_results_10x10]\n",
    "good_times_10x10_mean = np.mean(good_times_10x10) * 1000\n",
    "print(f\"Average time: {good_times_10x10_mean}ms\")\n"
   ]
  },
  {
   "attachments": {},
   "cell_type": "markdown",
   "metadata": {},
   "source": [
    "Now for matrices of 15x15\n"
   ]
  },
  {
   "cell_type": "code",
   "execution_count": 8,
   "metadata": {},
   "outputs": [],
   "source": [
    "processing_times = m7\n",
    "\n",
    "num_genes = len(processing_times) * len(processing_times[0])\n",
    "sol_per_pop = 300\n",
    "\n",
    "\n",
    "def fitness_func(solution: list[int], solution_idx: int = 0) -> int:\n",
    "    number_of_jobs = len(processing_times)\n",
    "    number_of_machines = len(processing_times[0])\n",
    "\n",
    "    schedule: list[list[int]] = solution.reshape(\n",
    "        number_of_jobs, number_of_machines)\n",
    "    machine_times = np.zeros(number_of_machines)\n",
    "\n",
    "    for i in range(len(schedule)):\n",
    "        for j in range(len(schedule)):\n",
    "            machine_idx = schedule[i, j]\n",
    "            machine_times[machine_idx - 1] += processing_times[i, j]\n",
    "\n",
    "    return -np.max(machine_times)"
   ]
  },
  {
   "cell_type": "code",
   "execution_count": 9,
   "metadata": {},
   "outputs": [
    {
     "name": "stdout",
     "output_type": "stream",
     "text": [
      "Accuracy: 92.0%\n",
      "Average time: 490.5732014904852ms\n"
     ]
    }
   ],
   "source": [
    "times_15x15: list[float] = []\n",
    "results_15x15: list[float] = []\n",
    "for _ in range(100):\n",
    "    ga_instance = pg.GA(\n",
    "        num_generations=num_generations,\n",
    "        num_parents_mating=num_parents_mating,\n",
    "        fitness_func=fitness_func,\n",
    "        sol_per_pop=sol_per_pop,\n",
    "        num_genes=num_genes,\n",
    "        gene_space=gene_space,\n",
    "        gene_type=int,\n",
    "        parent_selection_type=parent_selection_type,\n",
    "        keep_parents=keep_parents,\n",
    "        crossover_type=crossover_type,\n",
    "        mutation_type=mutation_type,\n",
    "        stop_criteria=\"saturate_7\",\n",
    "        mutation_percent_genes=mutation_percent_genes,\n",
    "    )\n",
    "    start = time.time()\n",
    "    ga_instance.run()\n",
    "    end = time.time()\n",
    "\n",
    "    times_15x15.append(end - start)\n",
    "    results_15x15.append(ga_instance.best_solution()[1])\n",
    "\n",
    "good_results_15x15: list[list[int, float]] = []\n",
    "for i in range(len(results_15x15)):\n",
    "    if results_15x15[i] > -2350.0:\n",
    "        good_results_15x15.append((i, results_15x15[i]))\n",
    "\n",
    "accuracy_15x15 = len(good_results_15x15) / len(results_15x15) * 100\n",
    "print(f\"Accuracy: {accuracy_15x15}%\")\n",
    "\n",
    "good_times_15x15 = [times_15x15[i] for i, _ in good_results_15x15]\n",
    "good_times_15x15_mean = np.mean(good_times_15x15) * 1000\n",
    "print(f\"Average time: {good_times_15x15_mean}ms\")\n"
   ]
  },
  {
   "cell_type": "code",
   "execution_count": 1,
   "metadata": {},
   "outputs": [
    {
     "ename": "NameError",
     "evalue": "name 'accuracy_5x5' is not defined",
     "output_type": "error",
     "traceback": [
      "\u001b[0;31m---------------------------------------------------------------------------\u001b[0m",
      "\u001b[0;31mNameError\u001b[0m                                 Traceback (most recent call last)",
      "Cell \u001b[0;32mIn[1], line 3\u001b[0m\n\u001b[1;32m      1\u001b[0m \u001b[39mfrom\u001b[39;00m \u001b[39mpandas\u001b[39;00m \u001b[39mimport\u001b[39;00m DataFrame\n\u001b[0;32m----> 3\u001b[0m d \u001b[39m=\u001b[39m {\u001b[39m\"\u001b[39m\u001b[39m5x5.accuracy\u001b[39m\u001b[39m\"\u001b[39m: [accuracy_5x5], \u001b[39m\"\u001b[39m\u001b[39m5x5.good_times_mean\u001b[39m\u001b[39m\"\u001b[39m: [good_times_5x5_mean], \u001b[39m\"\u001b[39m\u001b[39m10x10.accuracy\u001b[39m\u001b[39m\"\u001b[39m: [accuracy_10x10],\n\u001b[1;32m      4\u001b[0m      \u001b[39m\"\u001b[39m\u001b[39m10x10.good_times_mean\u001b[39m\u001b[39m\"\u001b[39m: [good_times_10x10_mean], \u001b[39m\"\u001b[39m\u001b[39m15x15.accuracy\u001b[39m\u001b[39m\"\u001b[39m: [accuracy_15x15], \u001b[39m\"\u001b[39m\u001b[39m15x15.good_times_mean\u001b[39m\u001b[39m\"\u001b[39m: [good_times_15x15_mean]}\n\u001b[1;32m      5\u001b[0m df \u001b[39m=\u001b[39m DataFrame(data\u001b[39m=\u001b[39md)\n\u001b[1;32m      7\u001b[0m display(df)\n",
      "\u001b[0;31mNameError\u001b[0m: name 'accuracy_5x5' is not defined"
     ]
    }
   ],
   "source": [
    "from pandas import DataFrame\n",
    "\n",
    "d = {\"5x5.accuracy\": [accuracy_5x5], \"5x5.good_times_mean\": [good_times_5x5_mean], \"10x10.accuracy\": [accuracy_10x10],\n",
    "     \"10x10.good_times_mean\": [good_times_10x10_mean], \"15x15.accuracy\": [accuracy_15x15], \"15x15.good_times_mean\": [good_times_15x15_mean]}\n",
    "df = DataFrame(data=d)\n",
    "\n",
    "display(df)\n"
   ]
  },
  {
   "attachments": {},
   "cell_type": "markdown",
   "metadata": {},
   "source": [
    "### Time\n",
    "\n",
    "Overall time is even better from what we assumed at the start. For most complex problems the answers is returned on average in less than 500ms which is exemplary.\n"
   ]
  },
  {
   "cell_type": "code",
   "execution_count": null,
   "metadata": {},
   "outputs": [
    {
     "ename": "KeyError",
     "evalue": "\"None of [Int64Index([0, 1, 2], dtype='int64')] are in the [columns]\"",
     "output_type": "error",
     "traceback": [
      "\u001b[0;31m---------------------------------------------------------------------------\u001b[0m",
      "\u001b[0;31mKeyError\u001b[0m                                  Traceback (most recent call last)",
      "Cell \u001b[0;32mIn[16], line 1\u001b[0m\n\u001b[0;32m----> 1\u001b[0m df\u001b[39m.\u001b[39;49mplot\u001b[39m.\u001b[39;49mbarh(x\u001b[39m=\u001b[39;49m[\u001b[39m0\u001b[39;49m, \u001b[39m1\u001b[39;49m, \u001b[39m2\u001b[39;49m], y\u001b[39m=\u001b[39;49m[\u001b[39m\"\u001b[39;49m\u001b[39m5x5.good_times_mean\u001b[39;49m\u001b[39m\"\u001b[39;49m, \u001b[39m\"\u001b[39;49m\u001b[39m10x10.good_times_mean\u001b[39;49m\u001b[39m\"\u001b[39;49m,\n\u001b[1;32m      2\u001b[0m              \u001b[39m\"\u001b[39;49m\u001b[39m15x15.good_times_mean\u001b[39;49m\u001b[39m\"\u001b[39;49m], title\u001b[39m=\u001b[39;49m\u001b[39m\"\u001b[39;49m\u001b[39mMean Time\u001b[39;49m\u001b[39m\"\u001b[39;49m, xlabel\u001b[39m=\u001b[39;49m\u001b[39m\"\u001b[39;49m\u001b[39mTime (ms)\u001b[39;49m\u001b[39m\"\u001b[39;49m)\n",
      "File \u001b[0;32m~/Documents/ai/.venv/lib/python3.11/site-packages/pandas/plotting/_core.py:1245\u001b[0m, in \u001b[0;36mPlotAccessor.barh\u001b[0;34m(self, x, y, **kwargs)\u001b[0m\n\u001b[1;32m   1161\u001b[0m \u001b[39m@Appender\u001b[39m(\n\u001b[1;32m   1162\u001b[0m \u001b[39m    \u001b[39m\u001b[39m\"\"\"\u001b[39;00m\n\u001b[1;32m   1163\u001b[0m \u001b[39m    See Also\u001b[39;00m\n\u001b[0;32m   (...)\u001b[0m\n\u001b[1;32m   1234\u001b[0m \u001b[39m@Appender\u001b[39m(_bar_or_line_doc)\n\u001b[1;32m   1235\u001b[0m \u001b[39mdef\u001b[39;00m \u001b[39mbarh\u001b[39m(\u001b[39mself\u001b[39m, x\u001b[39m=\u001b[39m\u001b[39mNone\u001b[39;00m, y\u001b[39m=\u001b[39m\u001b[39mNone\u001b[39;00m, \u001b[39m*\u001b[39m\u001b[39m*\u001b[39mkwargs) \u001b[39m-\u001b[39m\u001b[39m>\u001b[39m PlotAccessor:\n\u001b[1;32m   1236\u001b[0m \u001b[39m    \u001b[39m\u001b[39m\"\"\"\u001b[39;00m\n\u001b[1;32m   1237\u001b[0m \u001b[39m    Make a horizontal bar plot.\u001b[39;00m\n\u001b[1;32m   1238\u001b[0m \n\u001b[0;32m   (...)\u001b[0m\n\u001b[1;32m   1243\u001b[0m \u001b[39m    other axis represents a measured value.\u001b[39;00m\n\u001b[1;32m   1244\u001b[0m \u001b[39m    \"\"\"\u001b[39;00m\n\u001b[0;32m-> 1245\u001b[0m     \u001b[39mreturn\u001b[39;00m \u001b[39mself\u001b[39;49m(kind\u001b[39m=\u001b[39;49m\u001b[39m\"\u001b[39;49m\u001b[39mbarh\u001b[39;49m\u001b[39m\"\u001b[39;49m, x\u001b[39m=\u001b[39;49mx, y\u001b[39m=\u001b[39;49my, \u001b[39m*\u001b[39;49m\u001b[39m*\u001b[39;49mkwargs)\n",
      "File \u001b[0;32m~/Documents/ai/.venv/lib/python3.11/site-packages/pandas/plotting/_core.py:965\u001b[0m, in \u001b[0;36mPlotAccessor.__call__\u001b[0;34m(self, *args, **kwargs)\u001b[0m\n\u001b[1;32m    963\u001b[0m \u001b[39mif\u001b[39;00m is_integer(x) \u001b[39mand\u001b[39;00m \u001b[39mnot\u001b[39;00m data\u001b[39m.\u001b[39mcolumns\u001b[39m.\u001b[39mholds_integer():\n\u001b[1;32m    964\u001b[0m     x \u001b[39m=\u001b[39m data_cols[x]\n\u001b[0;32m--> 965\u001b[0m \u001b[39melif\u001b[39;00m \u001b[39mnot\u001b[39;00m \u001b[39misinstance\u001b[39m(data[x], ABCSeries):\n\u001b[1;32m    966\u001b[0m     \u001b[39mraise\u001b[39;00m \u001b[39mValueError\u001b[39;00m(\u001b[39m\"\u001b[39m\u001b[39mx must be a label or position\u001b[39m\u001b[39m\"\u001b[39m)\n\u001b[1;32m    967\u001b[0m data \u001b[39m=\u001b[39m data\u001b[39m.\u001b[39mset_index(x)\n",
      "File \u001b[0;32m~/Documents/ai/.venv/lib/python3.11/site-packages/pandas/core/frame.py:3813\u001b[0m, in \u001b[0;36mDataFrame.__getitem__\u001b[0;34m(self, key)\u001b[0m\n\u001b[1;32m   3811\u001b[0m     \u001b[39mif\u001b[39;00m is_iterator(key):\n\u001b[1;32m   3812\u001b[0m         key \u001b[39m=\u001b[39m \u001b[39mlist\u001b[39m(key)\n\u001b[0;32m-> 3813\u001b[0m     indexer \u001b[39m=\u001b[39m \u001b[39mself\u001b[39;49m\u001b[39m.\u001b[39;49mcolumns\u001b[39m.\u001b[39;49m_get_indexer_strict(key, \u001b[39m\"\u001b[39;49m\u001b[39mcolumns\u001b[39;49m\u001b[39m\"\u001b[39;49m)[\u001b[39m1\u001b[39m]\n\u001b[1;32m   3815\u001b[0m \u001b[39m# take() does not accept boolean indexers\u001b[39;00m\n\u001b[1;32m   3816\u001b[0m \u001b[39mif\u001b[39;00m \u001b[39mgetattr\u001b[39m(indexer, \u001b[39m\"\u001b[39m\u001b[39mdtype\u001b[39m\u001b[39m\"\u001b[39m, \u001b[39mNone\u001b[39;00m) \u001b[39m==\u001b[39m \u001b[39mbool\u001b[39m:\n",
      "File \u001b[0;32m~/Documents/ai/.venv/lib/python3.11/site-packages/pandas/core/indexes/base.py:6070\u001b[0m, in \u001b[0;36mIndex._get_indexer_strict\u001b[0;34m(self, key, axis_name)\u001b[0m\n\u001b[1;32m   6067\u001b[0m \u001b[39melse\u001b[39;00m:\n\u001b[1;32m   6068\u001b[0m     keyarr, indexer, new_indexer \u001b[39m=\u001b[39m \u001b[39mself\u001b[39m\u001b[39m.\u001b[39m_reindex_non_unique(keyarr)\n\u001b[0;32m-> 6070\u001b[0m \u001b[39mself\u001b[39;49m\u001b[39m.\u001b[39;49m_raise_if_missing(keyarr, indexer, axis_name)\n\u001b[1;32m   6072\u001b[0m keyarr \u001b[39m=\u001b[39m \u001b[39mself\u001b[39m\u001b[39m.\u001b[39mtake(indexer)\n\u001b[1;32m   6073\u001b[0m \u001b[39mif\u001b[39;00m \u001b[39misinstance\u001b[39m(key, Index):\n\u001b[1;32m   6074\u001b[0m     \u001b[39m# GH 42790 - Preserve name from an Index\u001b[39;00m\n",
      "File \u001b[0;32m~/Documents/ai/.venv/lib/python3.11/site-packages/pandas/core/indexes/base.py:6130\u001b[0m, in \u001b[0;36mIndex._raise_if_missing\u001b[0;34m(self, key, indexer, axis_name)\u001b[0m\n\u001b[1;32m   6128\u001b[0m     \u001b[39mif\u001b[39;00m use_interval_msg:\n\u001b[1;32m   6129\u001b[0m         key \u001b[39m=\u001b[39m \u001b[39mlist\u001b[39m(key)\n\u001b[0;32m-> 6130\u001b[0m     \u001b[39mraise\u001b[39;00m \u001b[39mKeyError\u001b[39;00m(\u001b[39mf\u001b[39m\u001b[39m\"\u001b[39m\u001b[39mNone of [\u001b[39m\u001b[39m{\u001b[39;00mkey\u001b[39m}\u001b[39;00m\u001b[39m] are in the [\u001b[39m\u001b[39m{\u001b[39;00maxis_name\u001b[39m}\u001b[39;00m\u001b[39m]\u001b[39m\u001b[39m\"\u001b[39m)\n\u001b[1;32m   6132\u001b[0m not_found \u001b[39m=\u001b[39m \u001b[39mlist\u001b[39m(ensure_index(key)[missing_mask\u001b[39m.\u001b[39mnonzero()[\u001b[39m0\u001b[39m]]\u001b[39m.\u001b[39munique())\n\u001b[1;32m   6133\u001b[0m \u001b[39mraise\u001b[39;00m \u001b[39mKeyError\u001b[39;00m(\u001b[39mf\u001b[39m\u001b[39m\"\u001b[39m\u001b[39m{\u001b[39;00mnot_found\u001b[39m}\u001b[39;00m\u001b[39m not in index\u001b[39m\u001b[39m\"\u001b[39m)\n",
      "\u001b[0;31mKeyError\u001b[0m: \"None of [Int64Index([0, 1, 2], dtype='int64')] are in the [columns]\""
     ]
    }
   ],
   "source": [
    "df.plot.barh(y=[\"5x5.good_times_mean\", \"10x10.good_times_mean\",\n",
    "             \"15x15.good_times_mean\"], title=\"Mean Time\", xlabel=\"Time (ms)\")\n"
   ]
  },
  {
   "attachments": {},
   "cell_type": "markdown",
   "metadata": {},
   "source": [
    "### Accuracy\n",
    "\n",
    "Since this is an open problem, that means we have a lot of answers that would have the same time, we cannot objectively say that our algorithm is good.\n",
    "\n",
    "We can say that it is good to based on our requirements of time (since fitness is based on overall time to finish all of the jobs) but we can use it to compare it to other algorithms, like PSA. Which we will do right now.\n"
   ]
  }
 ],
 "metadata": {
  "kernelspec": {
   "display_name": ".venv",
   "language": "python",
   "name": "python3"
  },
  "language_info": {
   "codemirror_mode": {
    "name": "ipython",
    "version": 3
   },
   "file_extension": ".py",
   "mimetype": "text/x-python",
   "name": "python",
   "nbconvert_exporter": "python",
   "pygments_lexer": "ipython3",
   "version": "3.11.3"
  },
  "orig_nbformat": 4
 },
 "nbformat": 4,
 "nbformat_minor": 2
}
