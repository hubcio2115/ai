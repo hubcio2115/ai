{
 "cells": [
  {
   "attachments": {},
   "cell_type": "markdown",
   "metadata": {},
   "source": [
    "Now we will continue to testing the PSA algorithm and at the end we will compare two to each other.\n"
   ]
  },
  {
   "cell_type": "code",
   "execution_count": 8,
   "metadata": {},
   "outputs": [],
   "source": [
    "# Once again we import the necessary commons\n",
    "from commons import *\n",
    "\n",
    "processing_times = m1"
   ]
  },
  {
   "attachments": {},
   "cell_type": "markdown",
   "metadata": {},
   "source": [
    "We defined forward_prop function this is the same as in the previous notebook\n"
   ]
  },
  {
   "cell_type": "code",
   "execution_count": 9,
   "metadata": {},
   "outputs": [],
   "source": [
    "def forward_prop(values: list[list[float]]):\n",
    "    schedules = []\n",
    "\n",
    "    for value in values:\n",
    "        number_of_jobs = len(processing_times)\n",
    "        number_of_machines = len(processing_times[0])\n",
    "\n",
    "        schedule: list[list[float]] = value.reshape(\n",
    "            number_of_jobs, number_of_machines)\n",
    "        machine_times = np.zeros(number_of_machines)\n",
    "\n",
    "        for i in range(len(processing_times)):\n",
    "            for j in range(len(processing_times)):\n",
    "                machine_idx = int(schedule[i, j])\n",
    "                machine_times[machine_idx - 1] += processing_times[i, j]\n",
    "\n",
    "        schedules.append(np.max(machine_times))\n",
    "\n",
    "    return schedules\n"
   ]
  },
  {
   "attachments": {},
   "cell_type": "markdown",
   "metadata": {},
   "source": [
    "Parameters in low complexity are also exact same\n"
   ]
  },
  {
   "cell_type": "code",
   "execution_count": 10,
   "metadata": {},
   "outputs": [],
   "source": [
    "\n",
    "options = {'c1': 0.5, 'c2': 0.3, 'w': 0.9}\n",
    "\n",
    "x_max = np.empty(len(processing_times) * len(processing_times))\n",
    "x_max.fill(len(processing_times))\n",
    "x_min = np.empty(len(processing_times) * len(processing_times))\n",
    "x_min.fill(1)\n",
    "bounds = (x_min, x_max)"
   ]
  },
  {
   "attachments": {},
   "cell_type": "markdown",
   "metadata": {},
   "source": [
    "Now we start our tests for the low complexity\n"
   ]
  },
  {
   "cell_type": "code",
   "execution_count": 11,
   "metadata": {},
   "outputs": [],
   "source": [
    "from tabnanny import verbose\n",
    "import time\n",
    "import pyswarms as ps\n",
    "\n",
    "times_5x5 = []\n",
    "results_5x5 = []\n",
    "for _ in range(100):\n",
    "    optimizer = ps.single.GlobalBestPSO(\n",
    "        n_particles=200, dimensions=len(processing_times) * len(processing_times), options=options, bounds=bounds)\n",
    "\n",
    "    start = time.time()\n",
    "    stats = optimizer.optimize(forward_prop, iters=100, verbose=False)\n",
    "    end = time.time()\n",
    "\n",
    "    times_5x5.append(end - start)\n",
    "    results_5x5.append(stats[0])\n"
   ]
  },
  {
   "cell_type": "code",
   "execution_count": 12,
   "metadata": {},
   "outputs": [
    {
     "name": "stdout",
     "output_type": "stream",
     "text": [
      "Accuracy: 0.0%\n",
      "Average time: infms\n"
     ]
    }
   ],
   "source": [
    "# The methodology is the exact same as we used in ga-efficiency.ipynb also we used the same parameters for specifying accuracy\n",
    "good_results_5x5: list[list[int, float]] = []\n",
    "for i in range(len(results_5x5)):\n",
    "    if results_5x5[i] < 247.0:\n",
    "        good_results_5x5.append((i, results_5x5[i]))\n",
    "\n",
    "accuracy_5x5 = len(good_results_5x5) / len(results_5x5) * 100\n",
    "print(f\"Accuracy: {accuracy_5x5}%\")\n",
    "\n",
    "good_times_5x5 = [times_5x5[i] for i, _ in good_results_5x5]\n",
    "\n",
    "good_times_5x5_mean = np.inf\n",
    "if len(good_times_5x5) != 0:\n",
    "    good_times_5x5_mean = np.mean(good_times_5x5) * 1000\n",
    "print(f\"Average time: {good_times_5x5_mean}ms\")\n"
   ]
  },
  {
   "attachments": {},
   "cell_type": "markdown",
   "metadata": {},
   "source": [
    "For this level of complexity PSA fails spectacularly. Not even it's slow but it doesn't even achieve even closely what GA does. But it's only for low level complexity level.\n"
   ]
  },
  {
   "cell_type": "code",
   "execution_count": 13,
   "metadata": {},
   "outputs": [],
   "source": [
    "processing_times = m4\n",
    "\n",
    "\n",
    "def forward_prop(values: list[list[float]]):\n",
    "    schedules = []\n",
    "\n",
    "    for value in values:\n",
    "        number_of_jobs = len(processing_times)\n",
    "        number_of_machines = len(processing_times[0])\n",
    "\n",
    "        schedule: list[list[float]] = value.reshape(\n",
    "            number_of_jobs, number_of_machines)\n",
    "        machine_times = np.zeros(number_of_machines)\n",
    "\n",
    "        for i in range(len(processing_times)):\n",
    "            for j in range(len(processing_times)):\n",
    "                machine_idx = int(schedule[i, j])\n",
    "                machine_times[machine_idx - 1] += processing_times[i, j]\n",
    "\n",
    "        schedules.append(np.max(machine_times))\n",
    "\n",
    "    return schedules\n",
    "\n",
    "\n",
    "x_max = np.empty(len(processing_times) * len(processing_times))\n",
    "x_max.fill(len(processing_times))\n",
    "x_min = np.empty(len(processing_times) * len(processing_times))\n",
    "x_min.fill(1)\n",
    "bounds = (x_min, x_max)\n"
   ]
  },
  {
   "cell_type": "code",
   "execution_count": 14,
   "metadata": {},
   "outputs": [],
   "source": [
    "times_10x10 = []\n",
    "results_10x10 = []\n",
    "for _ in range(100):\n",
    "    optimizer = ps.single.GlobalBestPSO(\n",
    "        n_particles=200, dimensions=len(processing_times) * len(processing_times), options=options, bounds=bounds)\n",
    "\n",
    "    start = time.time()\n",
    "    stats = optimizer.optimize(forward_prop, iters=100, verbose=False)\n",
    "    end = time.time()\n",
    "\n",
    "    times_10x10.append(end - start)\n",
    "    results_10x10.append(stats[0])\n"
   ]
  },
  {
   "cell_type": "code",
   "execution_count": 15,
   "metadata": {},
   "outputs": [
    {
     "name": "stdout",
     "output_type": "stream",
     "text": [
      "Accuracy: 100.0%\n",
      "Average time: 666.6221117973328ms\n"
     ]
    }
   ],
   "source": [
    "good_results_10x10: list[list[int, float]] = []\n",
    "for i in range(len(results_10x10)):\n",
    "    if results_10x10[i] < 1010.0:\n",
    "        good_results_10x10.append((i, results_10x10[i]))\n",
    "\n",
    "accuracy_10x10 = len(good_results_10x10) / len(results_10x10) * 100\n",
    "print(f\"Accuracy: {accuracy_10x10}%\")\n",
    "\n",
    "good_times_10x10 = [times_10x10[i] for i, _ in good_results_10x10]\n",
    "\n",
    "good_times_10x10_mean = np.inf\n",
    "if len(good_times_10x10) != 0:\n",
    "    good_times_10x10_mean = np.mean(good_times_10x10) * 1000\n",
    "print(f\"Average time: {good_times_10x10_mean}ms\")\n"
   ]
  },
  {
   "attachments": {},
   "cell_type": "markdown",
   "metadata": {},
   "source": [
    "Now the time is much a little longer on average than GA but the accuracy for the same level is much better.\n"
   ]
  },
  {
   "cell_type": "code",
   "execution_count": 16,
   "metadata": {},
   "outputs": [],
   "source": [
    "processing_times = m7\n",
    "\n",
    "\n",
    "def forward_prop(values: list[list[float]]):\n",
    "    schedules = []\n",
    "\n",
    "    for value in values:\n",
    "        number_of_jobs = len(processing_times)\n",
    "        number_of_machines = len(processing_times[0])\n",
    "\n",
    "        schedule: list[list[float]] = value.reshape(\n",
    "            number_of_jobs, number_of_machines)\n",
    "        machine_times = np.zeros(number_of_machines)\n",
    "\n",
    "        for i in range(len(processing_times)):\n",
    "            for j in range(len(processing_times)):\n",
    "                machine_idx = int(schedule[i, j])\n",
    "                machine_times[machine_idx - 1] += processing_times[i, j]\n",
    "\n",
    "        schedules.append(np.max(machine_times))\n",
    "\n",
    "    return schedules\n",
    "\n",
    "\n",
    "x_max = np.empty(len(processing_times) * len(processing_times))\n",
    "x_max.fill(len(processing_times))\n",
    "x_min = np.empty(len(processing_times) * len(processing_times))\n",
    "x_min.fill(1)\n",
    "bounds = (x_min, x_max)"
   ]
  },
  {
   "cell_type": "code",
   "execution_count": 17,
   "metadata": {},
   "outputs": [],
   "source": [
    "times_15x15 = []\n",
    "results_15x15 = []\n",
    "for _ in range(100):\n",
    "    optimizer = ps.single.GlobalBestPSO(\n",
    "        n_particles=200, dimensions=len(processing_times) * len(processing_times), options=options, bounds=bounds)\n",
    "\n",
    "    start = time.time()\n",
    "    stats = optimizer.optimize(forward_prop, iters=100, verbose=False)\n",
    "    end = time.time()\n",
    "\n",
    "    times_15x15.append(end - start)\n",
    "    results_15x15.append(stats[0])"
   ]
  },
  {
   "cell_type": "code",
   "execution_count": 18,
   "metadata": {},
   "outputs": [
    {
     "name": "stdout",
     "output_type": "stream",
     "text": [
      "Accuracy: 100.0%\n",
      "Average time: 1419.97474193573ms\n"
     ]
    }
   ],
   "source": [
    "\n",
    "good_results_15x15: list[list[int, float]] = []\n",
    "for i in range(len(results_15x15)):\n",
    "    if results_15x15[i] < 2350.0:\n",
    "        good_results_15x15.append((i, results_15x15[i]))\n",
    "\n",
    "accuracy_15x15 = len(good_results_15x15) / len(results_15x15) * 100\n",
    "print(f\"Accuracy: {accuracy_15x15}%\")\n",
    "\n",
    "good_times_15x15 = [times_15x15[i] for i, _ in good_results_15x15]\n",
    "\n",
    "good_times_15x15_mean = np.inf\n",
    "if len(good_times_15x15) != 0:\n",
    "    good_times_15x15_mean = np.mean(good_times_15x15) * 1000\n",
    "print(f\"Average time: {good_times_15x15_mean}ms\")\n"
   ]
  },
  {
   "attachments": {},
   "cell_type": "markdown",
   "metadata": {},
   "source": [
    "And again the accuracy is 100% percent, but the time is not so good\n"
   ]
  },
  {
   "cell_type": "code",
   "execution_count": 19,
   "metadata": {},
   "outputs": [
    {
     "data": {
      "text/html": [
       "<div>\n",
       "<style scoped>\n",
       "    .dataframe tbody tr th:only-of-type {\n",
       "        vertical-align: middle;\n",
       "    }\n",
       "\n",
       "    .dataframe tbody tr th {\n",
       "        vertical-align: top;\n",
       "    }\n",
       "\n",
       "    .dataframe thead th {\n",
       "        text-align: right;\n",
       "    }\n",
       "</style>\n",
       "<table border=\"1\" class=\"dataframe\">\n",
       "  <thead>\n",
       "    <tr style=\"text-align: right;\">\n",
       "      <th></th>\n",
       "      <th>5x5.accuracy</th>\n",
       "      <th>5x5.good_times_mean</th>\n",
       "      <th>10x10.accuracy</th>\n",
       "      <th>10x10.good_times_mean</th>\n",
       "      <th>15x15.accuracy</th>\n",
       "      <th>15x15.good_times_mean</th>\n",
       "    </tr>\n",
       "  </thead>\n",
       "  <tbody>\n",
       "    <tr>\n",
       "      <th>0</th>\n",
       "      <td>0.0</td>\n",
       "      <td>inf</td>\n",
       "      <td>100.0</td>\n",
       "      <td>666.622112</td>\n",
       "      <td>100.0</td>\n",
       "      <td>1419.974742</td>\n",
       "    </tr>\n",
       "  </tbody>\n",
       "</table>\n",
       "</div>"
      ],
      "text/plain": [
       "   5x5.accuracy  5x5.good_times_mean  10x10.accuracy  10x10.good_times_mean  \\\n",
       "0           0.0                  inf           100.0             666.622112   \n",
       "\n",
       "   15x15.accuracy  15x15.good_times_mean  \n",
       "0           100.0            1419.974742  "
      ]
     },
     "metadata": {},
     "output_type": "display_data"
    }
   ],
   "source": [
    "from pandas import DataFrame\n",
    "\n",
    "d = {\"5x5.accuracy\": [accuracy_5x5], \"5x5.good_times_mean\": [good_times_5x5_mean], \"10x10.accuracy\": [accuracy_10x10],\n",
    "     \"10x10.good_times_mean\": [good_times_10x10_mean], \"15x15.accuracy\": [accuracy_15x15], \"15x15.good_times_mean\": [good_times_15x15_mean]}\n",
    "df = DataFrame(data=d)\n",
    "\n",
    "display(df)\n"
   ]
  },
  {
   "cell_type": "code",
   "execution_count": 20,
   "metadata": {},
   "outputs": [
    {
     "data": {
      "text/plain": [
       "<Axes: title={'center': 'Mean Time'}, xlabel='Time (ms)'>"
      ]
     },
     "execution_count": 20,
     "metadata": {},
     "output_type": "execute_result"
    },
    {
     "data": {
      "image/png": "[encoded data removed]",
      "text/plain": [
       "<Figure size 640x480 with 1 Axes>"
      ]
     },
     "metadata": {},
     "output_type": "display_data"
    }
   ],
   "source": [
    "df.plot.barh(y=[\"5x5.good_times_mean\", \"10x10.good_times_mean\",\n",
    "             \"15x15.good_times_mean\"], title=\"Mean Time\", xlabel=\"Time (ms)\")"
   ]
  },
  {
   "attachments": {},
   "cell_type": "markdown",
   "metadata": {},
   "source": [
    "Since the easiest level did not achieve our level of accuracy it's time is not included.\n"
   ]
  }
 ],
 "metadata": {
  "kernelspec": {
   "display_name": ".venv",
   "language": "python",
   "name": "python3"
  },
  "language_info": {
   "codemirror_mode": {
    "name": "ipython",
    "version": 3
   },
   "file_extension": ".py",
   "mimetype": "text/x-python",
   "name": "python",
   "nbconvert_exporter": "python",
   "pygments_lexer": "ipython3",
   "version": "3.11.3"
  },
  "orig_nbformat": 4
 },
 "nbformat": 4,
 "nbformat_minor": 2
}
