{
 "cells": [
  {
   "attachments": {},
   "cell_type": "markdown",
   "metadata": {},
   "source": [
    "# PA algorithm\n",
    "\n",
    "Now we continue to PA algorithm. This is the same logic as in a fitness function from GA but made so it can be used with PSO.\n",
    "\n",
    "Since pyswarms works on floats we have to round the numbers which will make our solution inaccurate because of the rounding errors.\n"
   ]
  },
  {
   "cell_type": "code",
   "execution_count": 15,
   "metadata": {},
   "outputs": [],
   "source": [
    "# We import the necessary data from the file commons.py\n",
    "from commons import *\n",
    "\n",
    "# We save our matrix in a variable so we can use it later\n",
    "processing_times = m1"
   ]
  },
  {
   "cell_type": "code",
   "execution_count": 16,
   "metadata": {},
   "outputs": [],
   "source": [
    "# Logic here is the same as in GA other than that here we don't have to negate fitness and\n",
    "# we have to adapt it so it works with floating point numbers\n",
    "def forward_prop(values: list[list[float]]):\n",
    "    schedules = []\n",
    "\n",
    "    for value in values:\n",
    "        number_of_jobs = len(processing_times)\n",
    "        number_of_machines = len(processing_times[0])\n",
    "\n",
    "        schedule: list[list[float]] = value.reshape(\n",
    "            number_of_jobs, number_of_machines)\n",
    "        machine_times = np.zeros(number_of_machines)\n",
    "\n",
    "        for i in range(len(processing_times)):\n",
    "            for j in range(len(processing_times)):\n",
    "                machine_idx = int(schedule[i, j])\n",
    "                machine_times[machine_idx - 1] += processing_times[i, j]\n",
    "\n",
    "        schedules.append(np.max(machine_times))\n",
    "\n",
    "    return schedules"
   ]
  },
  {
   "cell_type": "code",
   "execution_count": 17,
   "metadata": {},
   "outputs": [],
   "source": [
    "import pyswarms as ps\n",
    "\n",
    "options = {'c1': 0.5, 'c2': 0.3, 'w': 0.9}\n",
    "\n",
    "x_max = np.empty(len(processing_times) * len(processing_times))\n",
    "x_max.fill(len(processing_times))\n",
    "x_min = np.empty(len(processing_times) * len(processing_times))\n",
    "x_min.fill(1)\n",
    "bounds = (x_min, x_max)\n",
    "\n",
    "optimizer = ps.single.GlobalBestPSO(\n",
    "    n_particles=200, dimensions=len(processing_times) * len(processing_times), options=options, bounds=bounds)\n",
    "stats = optimizer.optimize(forward_prop, iters=100, verbose=False)\n"
   ]
  },
  {
   "cell_type": "code",
   "execution_count": 18,
   "metadata": {},
   "outputs": [
    {
     "name": "stdout",
     "output_type": "stream",
     "text": [
      "fitness: 294.0\n",
      "best position: [[3. 4. 3. 3. 2.]\n",
      " [3. 4. 4. 2. 3.]\n",
      " [2. 3. 4. 3. 2.]\n",
      " [1. 4. 3. 3. 4.]\n",
      " [2. 1. 2. 2. 3.]]\n"
     ]
    }
   ],
   "source": [
    "print(f\"fitness: {stats[0]}\")\n",
    "print(\n",
    "    f\"best position: {np.around(stats[1], 0).reshape(len(processing_times), len(processing_times[0]))}\")\n"
   ]
  },
  {
   "attachments": {},
   "cell_type": "markdown",
   "metadata": {},
   "source": [
    "As we can see fitness is not as good as in case of GA for low complexity. Let's continue.\n"
   ]
  },
  {
   "cell_type": "code",
   "execution_count": 19,
   "metadata": {},
   "outputs": [
    {
     "data": {
      "image/png": "[encoded data removed]",
      "text/plain": [
       "<Figure size 1000x800 with 1 Axes>"
      ]
     },
     "metadata": {},
     "output_type": "display_data"
    }
   ],
   "source": [
    "from pyswarms.utils.plotters import plot_cost_history\n",
    "import matplotlib.pyplot as plt\n",
    "\n",
    "cost_history = optimizer.cost_history\n",
    "\n",
    "plot_cost_history(cost_history)\n",
    "plt.show()"
   ]
  },
  {
   "cell_type": "code",
   "execution_count": 20,
   "metadata": {},
   "outputs": [],
   "source": [
    "processing_times = m4\n",
    "\n",
    "\n",
    "# Like in ga for each complexity level we have to redefine the forward_prop function\n",
    "def forward_prop(values: list[list[float]]):\n",
    "    schedules = []\n",
    "\n",
    "    for value in values:\n",
    "        number_of_jobs = len(processing_times)\n",
    "        number_of_machines = len(processing_times[0])\n",
    "\n",
    "        schedule: list[list[float]] = value.reshape(\n",
    "            number_of_jobs, number_of_machines)\n",
    "        machine_times = np.zeros(number_of_machines)\n",
    "\n",
    "        for i in range(len(processing_times)):\n",
    "            for j in range(len(processing_times)):\n",
    "                machine_idx = int(schedule[i, j])\n",
    "                machine_times[machine_idx - 1] += processing_times[i, j]\n",
    "\n",
    "        schedules.append(np.max(machine_times))\n",
    "\n",
    "    return schedules\n"
   ]
  },
  {
   "cell_type": "code",
   "execution_count": 21,
   "metadata": {},
   "outputs": [],
   "source": [
    "x_max = np.empty(len(processing_times) * len(processing_times))\n",
    "x_max.fill(len(processing_times))\n",
    "x_min = np.empty(len(processing_times) * len(processing_times))\n",
    "x_min.fill(1)\n",
    "bounds = (x_min, x_max)\n",
    "\n",
    "optimizer = ps.single.GlobalBestPSO(\n",
    "    n_particles=200, dimensions=len(processing_times) * len(processing_times), options=options, bounds=bounds)\n",
    "stats = optimizer.optimize(forward_prop, iters=100, verbose=False)"
   ]
  },
  {
   "cell_type": "code",
   "execution_count": 22,
   "metadata": {},
   "outputs": [
    {
     "name": "stdout",
     "output_type": "stream",
     "text": [
      "fitness: 646.0\n",
      "best position: [[ 4.  2.  6.  3.  8.  4.  6.  5.  3.  3.]\n",
      " [ 3.  2.  8.  6.  8.  5.  6.  2.  9.  1.]\n",
      " [ 7.  3.  8. 10.  5.  8.  3.  7.  4.  7.]\n",
      " [ 8.  6.  7.  2.  5.  8.  9.  6.  8. 10.]\n",
      " [ 8.  9.  8.  6.  5.  4.  3.  5.  8.  7.]\n",
      " [ 1.  6.  9.  4.  3.  2.  7.  4.  9.  5.]\n",
      " [ 7.  7.  4.  9. 10.  7.  6.  6.  4.  4.]\n",
      " [ 3.  4.  8.  5.  6.  6.  6.  6.  3.  3.]\n",
      " [ 8.  5.  4.  5.  6.  7.  8.  9.  6.  5.]\n",
      " [ 6.  5.  9.  4.  7.  2.  7.  8.  3.  3.]]\n"
     ]
    }
   ],
   "source": [
    "print(f\"fitness: {stats[0]}\")\n",
    "print(\n",
    "    f\"best position: {np.around(stats[1], 0).reshape(len(processing_times), len(processing_times[0]))}\")\n"
   ]
  },
  {
   "attachments": {},
   "cell_type": "markdown",
   "metadata": {},
   "source": [
    "What's that? even after rounding all of the numbers we got much much better fitness. This result might surprise and it sure does.\n",
    "What will happen on the last level?\n"
   ]
  },
  {
   "cell_type": "code",
   "execution_count": 23,
   "metadata": {},
   "outputs": [],
   "source": [
    "processing_times = m7\n",
    "\n",
    "\n",
    "# Like in ga for each complexity level we have to redefine the forward_prop function\n",
    "def forward_prop(values: list[list[float]]):\n",
    "    schedules = []\n",
    "\n",
    "    for value in values:\n",
    "        number_of_jobs = len(processing_times)\n",
    "        number_of_machines = len(processing_times[0])\n",
    "\n",
    "        schedule: list[list[float]] = value.reshape(\n",
    "            number_of_jobs, number_of_machines)\n",
    "        machine_times = np.zeros(number_of_machines)\n",
    "\n",
    "        for i in range(len(processing_times)):\n",
    "            for j in range(len(processing_times)):\n",
    "                machine_idx = int(schedule[i, j])\n",
    "                machine_times[machine_idx - 1] += processing_times[i, j]\n",
    "\n",
    "        schedules.append(np.max(machine_times))\n",
    "\n",
    "    return schedules"
   ]
  },
  {
   "cell_type": "code",
   "execution_count": 24,
   "metadata": {},
   "outputs": [],
   "source": [
    "x_max = np.empty(len(processing_times) * len(processing_times))\n",
    "x_max.fill(len(processing_times))\n",
    "x_min = np.empty(len(processing_times) * len(processing_times))\n",
    "x_min.fill(1)\n",
    "bounds = (x_min, x_max)\n",
    "\n",
    "optimizer = ps.single.GlobalBestPSO(\n",
    "    n_particles=200, dimensions=len(processing_times) * len(processing_times), options=options, bounds=bounds)\n",
    "stats = optimizer.optimize(forward_prop, iters=100, verbose=False)\n"
   ]
  },
  {
   "cell_type": "code",
   "execution_count": 25,
   "metadata": {},
   "outputs": [
    {
     "name": "stdout",
     "output_type": "stream",
     "text": [
      "fitness: 955.0\n",
      "best position: [[ 8.  5.  2.  2. 15.  8.  8. 11.  6.  9. 14.  3.  6.  6.  9.]\n",
      " [11.  9.  1. 12.  2.  6. 12.  3. 10.  8.  2.  1. 13.  3.  1.]\n",
      " [12. 10.  4.  7.  5. 11. 10. 15.  9.  9.  5.  7.  9. 11.  6.]\n",
      " [ 2.  9.  3.  8.  2.  1. 13.  4.  8. 11.  9. 13.  6. 14. 14.]\n",
      " [14.  5. 11.  5.  5.  8.  7. 11. 13. 11.  3.  5. 11. 13.  7.]\n",
      " [ 9. 14. 13.  3. 10.  6. 10. 10.  8.  9. 11.  5.  9. 10.  4.]\n",
      " [ 5.  2.  3.  4. 11.  5. 14.  8. 10.  9. 10.  9. 11.  4. 12.]\n",
      " [ 8.  7. 14. 12.  3.  8.  2.  1.  9.  3.  9.  7. 13.  5. 12.]\n",
      " [10. 11. 10.  3.  5.  7.  9. 11.  9. 10.  5. 14. 11.  7. 10.]\n",
      " [ 7. 12. 13.  4. 11.  4.  6.  5.  6.  5.  9.  7.  7. 13. 15.]\n",
      " [13.  3.  7.  4.  6.  4.  4. 10. 14.  2.  5.  2.  3.  7.  6.]\n",
      " [11.  6. 13.  2. 10. 11.  3. 15.  7. 13.  2. 12.  6.  2. 12.]\n",
      " [ 3.  2.  8. 15.  8. 13. 10.  9. 13.  7.  4.  4. 14. 14. 12.]\n",
      " [ 3.  5. 14.  3.  9. 13. 12.  1.  5. 12.  4. 14. 11. 10.  6.]\n",
      " [ 9. 14.  9.  4.  3. 13.  7. 12.  4. 15. 12. 10.  9. 14. 14.]]\n"
     ]
    }
   ],
   "source": [
    "print(f\"fitness: {stats[0]}\")\n",
    "print(\n",
    "    f\"best position: {np.around(stats[1], 0).reshape(len(processing_times), len(processing_times[0]))}\")"
   ]
  },
  {
   "attachments": {},
   "cell_type": "markdown",
   "metadata": {},
   "source": [
    "Most surprisingly we achieved better fitness in this one run than in GA algorithm, it's even better than GA on the second level of complexity. Now let's test the algorithm for it's accuracy and time cost.\n"
   ]
  }
 ],
 "metadata": {
  "kernelspec": {
   "display_name": ".venv",
   "language": "python",
   "name": "python3"
  },
  "language_info": {
   "codemirror_mode": {
    "name": "ipython",
    "version": 3
   },
   "file_extension": ".py",
   "mimetype": "text/x-python",
   "name": "python",
   "nbconvert_exporter": "python",
   "pygments_lexer": "ipython3",
   "version": "3.11.3"
  },
  "orig_nbformat": 4
 },
 "nbformat": 4,
 "nbformat_minor": 2
}
