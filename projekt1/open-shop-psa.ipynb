{
 "cells": [
  {
   "attachments": {},
   "cell_type": "markdown",
   "metadata": {},
   "source": [
    "# PA algorithm\n",
    "\n",
    "Now we continue to PA algorithm. This is the same logic as in a fitness function from GA but made so it can be used with PSO.\n",
    "\n",
    "Since pyswarms works on floats we have to round the numbers which will make our solution inaccurate because of the rounding errors.\n"
   ]
  },
  {
   "cell_type": "code",
   "execution_count": 72,
   "metadata": {},
   "outputs": [],
   "source": [
    "# We import the necessary data from the file commons.py\n",
    "from commons import *\n",
    "\n",
    "# We save our matrix in a variable so we can use it later\n",
    "processing_times = m1"
   ]
  },
  {
   "cell_type": "code",
   "execution_count": 73,
   "metadata": {},
   "outputs": [],
   "source": [
    "# Logic here is the same as in GA other than that here we don't have to negate fitness and\n",
    "# we have to adapt it so it works with floating point numbers\n",
    "def forward_prop(values: list[list[float]]):\n",
    "    schedules = []\n",
    "\n",
    "    for value in values:\n",
    "        number_of_jobs = len(processing_times)\n",
    "        number_of_machines = len(processing_times[0])\n",
    "\n",
    "        schedule: list[list[float]] = value.reshape(\n",
    "            number_of_jobs, number_of_machines)\n",
    "        machine_times = np.zeros(number_of_machines)\n",
    "\n",
    "        for i in range(len(processing_times)):\n",
    "            for j in range(len(processing_times)):\n",
    "                machine_idx = int(schedule[i, j])\n",
    "                machine_times[machine_idx - 1] += processing_times[i, j]\n",
    "\n",
    "        schedules.append(np.max(machine_times))\n",
    "\n",
    "    return schedules"
   ]
  },
  {
   "cell_type": "code",
   "execution_count": 74,
   "metadata": {},
   "outputs": [
    {
     "name": "stderr",
     "output_type": "stream",
     "text": [
      "2023-04-11 14:42:25,806 - pyswarms.single.global_best - INFO - Optimize for 100 iters with {'c1': 0.5, 'c2': 0.3, 'w': 0.9}\n",
      "pyswarms.single.global_best: 100%|██████████|100/100, best_cost=293\n",
      "2023-04-11 14:42:26,099 - pyswarms.single.global_best - INFO - Optimization finished | best cost: 293.0, best pos: [2.14608206 4.13839659 2.93823723 4.01054633 2.83835536 2.40816142\n",
      " 2.25547045 1.71093076 3.91443243 3.57129777 1.26860328 3.39858714\n",
      " 2.17378462 2.96375774 3.45544295 4.10127633 4.31313146 2.58963778\n",
      " 3.16192478 3.85743246 3.32760976 4.19518571 1.89915005 4.08568494\n",
      " 1.18952815]\n"
     ]
    }
   ],
   "source": [
    "import pyswarms as ps\n",
    "\n",
    "options = {'c1': 0.5, 'c2': 0.3, 'w': 0.9}\n",
    "\n",
    "x_max = np.empty(len(processing_times) * len(processing_times))\n",
    "x_max.fill(len(processing_times))\n",
    "x_min = np.empty(len(processing_times) * len(processing_times))\n",
    "x_min.fill(1)\n",
    "bounds = (x_min, x_max)\n",
    "\n",
    "optimizer = ps.single.GlobalBestPSO(\n",
    "    n_particles=200, dimensions=len(processing_times) * len(processing_times), options=options, bounds=bounds)\n",
    "stats = optimizer.optimize(forward_prop, iters=100)\n"
   ]
  },
  {
   "cell_type": "code",
   "execution_count": 75,
   "metadata": {},
   "outputs": [
    {
     "name": "stdout",
     "output_type": "stream",
     "text": [
      "fitness: 293.0\n",
      "best position: [[2. 4. 3. 4. 3.]\n",
      " [2. 2. 2. 4. 4.]\n",
      " [1. 3. 2. 3. 3.]\n",
      " [4. 4. 3. 3. 4.]\n",
      " [3. 4. 2. 4. 1.]]\n"
     ]
    }
   ],
   "source": [
    "print(f\"fitness: {stats[0]}\")\n",
    "print(\n",
    "    f\"best position: {np.around(stats[1], 0).reshape(len(processing_times), len(processing_times[0]))}\")\n"
   ]
  },
  {
   "attachments": {},
   "cell_type": "markdown",
   "metadata": {},
   "source": [
    "As we can see fitness is not as good as in case of GA for low complexity. Let's continue.\n"
   ]
  },
  {
   "cell_type": "code",
   "execution_count": 76,
   "metadata": {},
   "outputs": [
    {
     "data": {
      "image/png": "[encoded data removed]",
      "text/plain": [
       "<Figure size 1000x800 with 1 Axes>"
      ]
     },
     "metadata": {},
     "output_type": "display_data"
    }
   ],
   "source": [
    "from pyswarms.utils.plotters import plot_cost_history\n",
    "import matplotlib.pyplot as plt\n",
    "\n",
    "cost_history = optimizer.cost_history\n",
    "\n",
    "plot_cost_history(cost_history)\n",
    "plt.show()"
   ]
  },
  {
   "cell_type": "code",
   "execution_count": 77,
   "metadata": {},
   "outputs": [],
   "source": [
    "processing_times = m4\n",
    "\n",
    "\n",
    "# Like in ga for each complexity level we have to redefine the forward_prop function\n",
    "def forward_prop(values: list[list[float]]):\n",
    "    schedules = []\n",
    "\n",
    "    for value in values:\n",
    "        number_of_jobs = len(processing_times)\n",
    "        number_of_machines = len(processing_times[0])\n",
    "\n",
    "        schedule: list[list[float]] = value.reshape(\n",
    "            number_of_jobs, number_of_machines)\n",
    "        machine_times = np.zeros(number_of_machines)\n",
    "\n",
    "        for i in range(len(processing_times)):\n",
    "            for j in range(len(processing_times)):\n",
    "                machine_idx = int(schedule[i, j])\n",
    "                machine_times[machine_idx - 1] += processing_times[i, j]\n",
    "\n",
    "        schedules.append(np.max(machine_times))\n",
    "\n",
    "    return schedules\n"
   ]
  },
  {
   "cell_type": "code",
   "execution_count": 78,
   "metadata": {},
   "outputs": [
    {
     "name": "stderr",
     "output_type": "stream",
     "text": [
      "2023-04-11 14:42:26,292 - pyswarms.single.global_best - INFO - Optimize for 100 iters with {'c1': 0.5, 'c2': 0.3, 'w': 0.9}\n",
      "pyswarms.single.global_best: 100%|██████████|100/100, best_cost=627\n",
      "2023-04-11 14:42:27,051 - pyswarms.single.global_best - INFO - Optimization finished | best cost: 627.0, best pos: [7.3201992  4.59076984 7.79331928 9.5081161  9.48693898 4.25854814\n",
      " 7.03546032 7.41172435 1.61649259 4.12201068 9.95268157 8.7611213\n",
      " 6.70807675 2.46192996 6.59063558 2.76711863 3.75975373 9.30212896\n",
      " 1.82992487 7.72990017 7.33041802 1.80860344 8.315564   3.43315812\n",
      " 2.9525377  5.50860421 7.31292904 7.92814145 6.19686849 7.78173261\n",
      " 3.59929403 3.69171848 4.48937788 5.06738289 4.368245   9.09438956\n",
      " 1.2519066  8.41100918 6.76626473 4.18029313 7.21121305 2.2483129\n",
      " 5.94182688 5.44284468 1.81525368 2.9862206  6.31974816 9.51484559\n",
      " 5.64369542 7.30878128 4.23252548 9.01559699 5.48937234 5.17263478\n",
      " 4.90174167 6.93720239 5.33611688 3.18603775 9.48805177 2.97809033\n",
      " 1.07014516 5.92107479 4.50133836 8.4672844  5.10744446 3.96843177\n",
      " 9.74393338 9.94313011 8.165703   7.25097108 3.71107224 2.61166665\n",
      " 5.84523406 1.03850233 3.34741047 6.07303772 8.45303692 3.00154006\n",
      " 8.63137975 1.99922924 2.27005589 9.18445523 7.86776931 7.52109869\n",
      " 7.95714167 3.3129119  7.50683838 2.1166251  6.28610239 2.13196172\n",
      " 8.84291284 1.46735921 5.50148174 5.40341749 6.99752514 3.93261265\n",
      " 4.0970653  1.99545253 6.25218978 1.45939222]\n"
     ]
    }
   ],
   "source": [
    "x_max = np.empty(len(processing_times) * len(processing_times))\n",
    "x_max.fill(len(processing_times))\n",
    "x_min = np.empty(len(processing_times) * len(processing_times))\n",
    "x_min.fill(1)\n",
    "bounds = (x_min, x_max)\n",
    "\n",
    "optimizer = ps.single.GlobalBestPSO(\n",
    "    n_particles=200, dimensions=len(processing_times) * len(processing_times), options=options, bounds=bounds)\n",
    "stats = optimizer.optimize(forward_prop, iters=100)\n"
   ]
  },
  {
   "cell_type": "code",
   "execution_count": 79,
   "metadata": {},
   "outputs": [
    {
     "name": "stdout",
     "output_type": "stream",
     "text": [
      "fitness: 627.0\n",
      "best position: [[ 7.  5.  8. 10.  9.  4.  7.  7.  2.  4.]\n",
      " [10.  9.  7.  2.  7.  3.  4.  9.  2.  8.]\n",
      " [ 7.  2.  8.  3.  3.  6.  7.  8.  6.  8.]\n",
      " [ 4.  4.  4.  5.  4.  9.  1.  8.  7.  4.]\n",
      " [ 7.  2.  6.  5.  2.  3.  6. 10.  6.  7.]\n",
      " [ 4.  9.  5.  5.  5.  7.  5.  3.  9.  3.]\n",
      " [ 1.  6.  5.  8.  5.  4. 10. 10.  8.  7.]\n",
      " [ 4.  3.  6.  1.  3.  6.  8.  3.  9.  2.]\n",
      " [ 2.  9.  8.  8.  8.  3.  8.  2.  6.  2.]\n",
      " [ 9.  1.  6.  5.  7.  4.  4.  2.  6.  1.]]\n"
     ]
    }
   ],
   "source": [
    "print(f\"fitness: {stats[0]}\")\n",
    "print(\n",
    "    f\"best position: {np.around(stats[1], 0).reshape(len(processing_times), len(processing_times[0]))}\")\n"
   ]
  },
  {
   "attachments": {},
   "cell_type": "markdown",
   "metadata": {},
   "source": [
    "What's that? even after rounding all of the numbers we got much much better fitness. This result might surprise and it sure does.\n",
    "What will happen on the last level?\n"
   ]
  },
  {
   "cell_type": "code",
   "execution_count": 80,
   "metadata": {},
   "outputs": [],
   "source": [
    "processing_times = m7\n",
    "\n",
    "\n",
    "# Like in ga for each complexity level we have to redefine the forward_prop function\n",
    "def forward_prop(values: list[list[float]]):\n",
    "    schedules = []\n",
    "\n",
    "    for value in values:\n",
    "        number_of_jobs = len(processing_times)\n",
    "        number_of_machines = len(processing_times[0])\n",
    "\n",
    "        schedule: list[list[float]] = value.reshape(\n",
    "            number_of_jobs, number_of_machines)\n",
    "        machine_times = np.zeros(number_of_machines)\n",
    "\n",
    "        for i in range(len(processing_times)):\n",
    "            for j in range(len(processing_times)):\n",
    "                machine_idx = int(schedule[i, j])\n",
    "                machine_times[machine_idx - 1] += processing_times[i, j]\n",
    "\n",
    "        schedules.append(np.max(machine_times))\n",
    "\n",
    "    return schedules"
   ]
  },
  {
   "cell_type": "code",
   "execution_count": 81,
   "metadata": {},
   "outputs": [
    {
     "name": "stderr",
     "output_type": "stream",
     "text": [
      "2023-04-11 14:42:27,121 - pyswarms.single.global_best - INFO - Optimize for 100 iters with {'c1': 0.5, 'c2': 0.3, 'w': 0.9}\n",
      "pyswarms.single.global_best: 100%|██████████|100/100, best_cost=987  \n",
      "2023-04-11 14:42:28,763 - pyswarms.single.global_best - INFO - Optimization finished | best cost: 987.0, best pos: [ 9.28814239  4.54384341  1.71747156 10.08042914 10.97863765  6.97976293\n",
      "  8.91008183 14.51132397  4.6281139   2.20236925  3.87986376 12.85010678\n",
      " 11.90125652  7.80249965  1.60913379 11.92305037 11.02458346 10.80615625\n",
      "  9.57527813  7.37879975  9.45088561  7.15797671  5.75006071  2.80257247\n",
      "  9.28325882  5.16831134 10.24633608  9.10983553  1.93163585  7.61726239\n",
      "  7.4480126   5.40350806 10.35148928  5.83689965  5.7227298   4.981192\n",
      " 11.17125645  5.12606041 10.4490959   1.85886493 13.48281681 11.59362165\n",
      "  2.73148894  5.49483184  5.23873946 12.40542972 11.50388115  8.75044188\n",
      "  3.11649134  5.74601992  9.43777663 10.10170647 12.80865498 14.76100396\n",
      "  9.2002856   4.6266236   9.90200779 13.65481467  1.95480992  4.87428109\n",
      " 10.78749663 14.25776058  4.44919585  4.72950674  2.3904384  12.02985327\n",
      " 11.46134819 10.22320155  7.78685525  4.01915925  6.52532288  7.85047369\n",
      "  7.37323465  8.24542485 12.24958816  7.12495447 11.77218573  5.29578727\n",
      "  3.76779249 12.51944909  6.72523991  8.23664451  3.66824553  9.49108621\n",
      "  6.87759266  9.97048532 13.47103818  6.31955291 10.4441649  12.74313518\n",
      "  7.37829537 12.34829131  2.35336362  1.23209638  9.91646206  9.07883894\n",
      "  7.00883528 12.77722384 10.48850185  2.97350753 11.73105951 13.00637818\n",
      " 11.39586934  6.69180222  8.36027498  2.72727991  3.28642322  7.4617611\n",
      " 11.83837251  4.92000524  6.52859739 13.08436052 11.95973898 12.27534217\n",
      " 10.09703047  8.33210408  3.32006185  6.36415576  6.47781652  5.98059042\n",
      "  9.18716968  9.93797924 13.07405529  6.72085808  7.65096785  2.5202288\n",
      " 11.90567181  8.91533302 14.46992463  6.43076478  8.00895229  9.49973174\n",
      "  8.63139823  8.43709618  7.25732665 10.47116214  5.2270136  13.12269221\n",
      " 13.22584755  5.66430371  3.05351191  8.33263715  1.73251539 12.13012097\n",
      "  9.5251392   4.65399361  7.5457655   6.0536088   8.67443451  8.82627033\n",
      "  3.04944035 13.98800287  9.26317057  9.66600953  2.3334439   6.87808671\n",
      " 13.0322389  13.65418793 11.5043687   8.66990794  4.43784071  2.77915503\n",
      "  9.42586187 11.39107377  9.01327711  6.96885897  8.95194692 13.7050802\n",
      " 10.02359199 10.6878521   6.93281833  7.29672201  2.69579524  2.90976263\n",
      " 12.34413993  3.41097027  5.84626809  9.72001317  6.63060436  2.13392181\n",
      "  6.53752072  9.083035    7.69896003 13.45549381 12.61484218  3.45673833\n",
      "  7.75643941  4.60925701  4.5709037  12.58462454 13.76078093  6.52636995\n",
      "  7.43266101  4.02835296 10.30065518 12.92767313  5.23220288  1.1819856\n",
      " 14.90969026  5.10060027  8.29693615  2.68942209  2.2161621   2.35470664\n",
      "  5.86588611  4.90093022  4.08178953  2.49767777  8.10598104 10.75101022\n",
      "  4.67571133 12.04459265  9.98291375  4.10072438 10.05906993 13.77574961\n",
      "  1.34142503  9.08360348  5.3421739   8.00046173  6.22726499 10.41285526\n",
      "  6.86230548  8.41125654  9.80527437]\n"
     ]
    }
   ],
   "source": [
    "x_max = np.empty(len(processing_times) * len(processing_times))\n",
    "x_max.fill(len(processing_times))\n",
    "x_min = np.empty(len(processing_times) * len(processing_times))\n",
    "x_min.fill(1)\n",
    "bounds = (x_min, x_max)\n",
    "\n",
    "optimizer = ps.single.GlobalBestPSO(\n",
    "    n_particles=200, dimensions=len(processing_times) * len(processing_times), options=options, bounds=bounds)\n",
    "stats = optimizer.optimize(forward_prop, iters=100)\n"
   ]
  },
  {
   "cell_type": "code",
   "execution_count": 82,
   "metadata": {},
   "outputs": [
    {
     "name": "stdout",
     "output_type": "stream",
     "text": [
      "fitness: 987.0\n",
      "best position: [[ 9.  5.  2. 10. 11.  7.  9. 15.  5.  2.  4. 13. 12.  8.  2.]\n",
      " [12. 11. 11. 10.  7.  9.  7.  6.  3.  9.  5. 10.  9.  2.  8.]\n",
      " [ 7.  5. 10.  6.  6.  5. 11.  5. 10.  2. 13. 12.  3.  5.  5.]\n",
      " [12. 12.  9.  3.  6.  9. 10. 13. 15.  9.  5. 10. 14.  2.  5.]\n",
      " [11. 14.  4.  5.  2. 12. 11. 10.  8.  4.  7.  8.  7.  8. 12.]\n",
      " [ 7. 12.  5.  4. 13.  7.  8.  4.  9.  7. 10. 13.  6. 10. 13.]\n",
      " [ 7. 12.  2.  1. 10.  9.  7. 13. 10.  3. 12. 13. 11.  7.  8.]\n",
      " [ 3.  3.  7. 12.  5.  7. 13. 12. 12. 10.  8.  3.  6.  6.  6.]\n",
      " [ 9. 10. 13.  7.  8.  3. 12.  9. 14.  6.  8.  9.  9.  8.  7.]\n",
      " [10.  5. 13. 13.  6.  3.  8.  2. 12. 10.  5.  8.  6.  9.  9.]\n",
      " [ 3. 14.  9. 10.  2.  7. 13. 14. 12.  9.  4.  3.  9. 11.  9.]\n",
      " [ 7.  9. 14. 10. 11.  7.  7.  3.  3. 12.  3.  6. 10.  7.  2.]\n",
      " [ 7.  9.  8. 13. 13.  3.  8.  5.  5. 13. 14.  7.  7.  4. 10.]\n",
      " [13.  5.  1. 15.  5.  8.  3.  2.  2.  6.  5.  4.  2.  8. 11.]\n",
      " [ 5. 12. 10.  4. 10. 14.  1.  9.  5.  8.  6. 10.  7.  8. 10.]]\n"
     ]
    }
   ],
   "source": [
    "print(f\"fitness: {stats[0]}\")\n",
    "print(\n",
    "    f\"best position: {np.around(stats[1], 0).reshape(len(processing_times), len(processing_times[0]))}\")"
   ]
  },
  {
   "attachments": {},
   "cell_type": "markdown",
   "metadata": {},
   "source": [
    "Most surprisingly we achieved better fitness in this one run than in GA algorithm, it's even better than GA on the second level of complexity. Now let's test the algorithm for it's accuracy and time cost.\n"
   ]
  }
 ],
 "metadata": {
  "kernelspec": {
   "display_name": ".venv",
   "language": "python",
   "name": "python3"
  },
  "language_info": {
   "codemirror_mode": {
    "name": "ipython",
    "version": 3
   },
   "file_extension": ".py",
   "mimetype": "text/x-python",
   "name": "python",
   "nbconvert_exporter": "python",
   "pygments_lexer": "ipython3",
   "version": "3.11.3"
  },
  "orig_nbformat": 4
 },
 "nbformat": 4,
 "nbformat_minor": 2
}
