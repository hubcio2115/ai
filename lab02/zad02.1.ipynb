{
 "cells": [
  {
   "cell_type": "code",
   "execution_count": 113,
   "metadata": {},
   "outputs": [],
   "source": [
    "import numpy as np\n",
    "import pygad"
   ]
  },
  {
   "cell_type": "code",
   "execution_count": 114,
   "metadata": {},
   "outputs": [],
   "source": [
    "items = [\n",
    "    {\n",
    "        \"value\": 100,\n",
    "        \"weight\": 7\n",
    "    },\n",
    "    {\n",
    "        \"value\": 300,\n",
    "        \"weight\": 7\n",
    "    },\n",
    "    {\n",
    "        \"value\": 200,\n",
    "        \"weight\": 6\n",
    "    },\n",
    "    {\n",
    "        \"value\": 40,\n",
    "        \"weight\": 2\n",
    "    },\n",
    "    {\n",
    "        \"value\": 500,\n",
    "        \"weight\": 5\n",
    "    },\n",
    "    {\n",
    "        \"value\": 70,\n",
    "        \"weight\": 6\n",
    "    },\n",
    "    {\n",
    "        \"value\": 100,\n",
    "        \"weight\": 1},\n",
    "    {\n",
    "        \"value\": 250,\n",
    "        \"weight\": 3\n",
    "    },\n",
    "    {\n",
    "        \"value\": 300,\n",
    "        \"weight\": 10\n",
    "    },\n",
    "    {\n",
    "        \"value\": 280,\n",
    "        \"weight\": 3\n",
    "    },\n",
    "    {\n",
    "        \"value\": 300,\n",
    "        \"weight\": 15\n",
    "    }\n",
    "]\n",
    "\n",
    "gene_space = [0, 1]\n",
    "\n",
    "def fitness_func(solution, solution_idx):\n",
    "    values = []\n",
    "    weights = []\n",
    "\n",
    "    for i in range(len(items)):\n",
    "        if solution[i] == 1:\n",
    "            values.append(items[i]['value'])\n",
    "            weights.append(items[i]['weight'])\n",
    "\n",
    "    if np.sum(weights) > 25:\n",
    "        return 0\n",
    "\n",
    "    return np.sum(values)\n",
    "\n",
    "sol_per_pop = 10\n",
    "num_genes = len(items)\n",
    "\n",
    "num_parents_mating = 5\n",
    "num_generations = 30\n",
    "keep_parents = 2\n",
    "\n",
    "parent_selection_type = \"rank\"\n",
    "\n",
    "crossover_type = \"single_point\"\n",
    "\n",
    "mutation_type = \"random\"\n",
    "\n",
    "mutation_percent_genes = 10\n"
   ]
  },
  {
   "cell_type": "code",
   "execution_count": 115,
   "metadata": {},
   "outputs": [],
   "source": [
    "import time\n",
    "\n",
    "start = time.time()\n",
    "ga_instance = pygad.GA(\n",
    "    gene_space=gene_space,\n",
    "    num_generations=num_generations,\n",
    "    num_parents_mating=num_parents_mating,\n",
    "    fitness_func=fitness_func,\n",
    "    sol_per_pop=sol_per_pop,\n",
    "    num_genes=num_genes,\n",
    "    parent_selection_type=parent_selection_type,\n",
    "    keep_parents=keep_parents,\n",
    "    crossover_type=crossover_type,\n",
    "    mutation_type=mutation_type,\n",
    "    mutation_percent_genes=mutation_percent_genes,\n",
    "    stop_criteria=[\"reach_1600\"]\n",
    ")\n",
    "ga_instance.run()\n",
    "end = time.time()\n"
   ]
  },
  {
   "cell_type": "code",
   "execution_count": 116,
   "metadata": {},
   "outputs": [
    {
     "name": "stdout",
     "output_type": "stream",
     "text": [
      "Parameters of the best solution : [0. 0. 0. 1. 1. 0. 1. 1. 1. 1. 0.]\n",
      "Fitness value of the best solution = 1470\n",
      "30\n",
      "time: 0.0075418949127197266\n"
     ]
    }
   ],
   "source": [
    "solution, solution_fitness, solution_idx,  = ga_instance.best_solution()\n",
    "\n",
    "print(\"Parameters of the best solution : {solution}\".format(solution=solution))\n",
    "print(\"Fitness value of the best solution = {solution_fitness}\".format(\n",
    "    solution_fitness=solution_fitness))\n",
    "\n",
    "\n",
    "# wyswietlenie wykresu: jak zmieniala sie ocena na przestrzeni pokolen\n",
    "print(ga_instance.generations_completed)\n",
    "print(f\"time: {end - start}\")\n",
    "\n"
   ]
  }
 ],
 "metadata": {
  "kernelspec": {
   "display_name": "base",
   "language": "python",
   "name": "python3"
  },
  "language_info": {
   "codemirror_mode": {
    "name": "ipython",
    "version": 3
   },
   "file_extension": ".py",
   "mimetype": "text/x-python",
   "name": "python",
   "nbconvert_exporter": "python",
   "pygments_lexer": "ipython3",
   "version": "3.10.9"
  },
  "orig_nbformat": 4
 },
 "nbformat": 4,
 "nbformat_minor": 2
}
