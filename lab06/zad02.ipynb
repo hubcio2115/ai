{
 "cells": [
  {
   "cell_type": "code",
   "execution_count": 28,
   "metadata": {},
   "outputs": [],
   "source": [
    "import pandas as pd\n",
    "import numpy as np\n",
    "from sklearn.model_selection import train_test_split\n",
    "from sklearn.preprocessing import StandardScaler\n",
    "from sklearn.neural_network import MLPClassifier\n",
    "from sklearn.metrics import accuracy_score\n",
    "\n",
    "data_iris = pd.read_csv(\"iris.csv\")\n",
    "\n",
    "train_set, test_set, train_labels, test_labels = train_test_split(\n",
    "    data_iris.values[:, :-1], data_iris.values[:, -1], train_size=0.7, random_state=278805)"
   ]
  },
  {
   "cell_type": "code",
   "execution_count": 29,
   "metadata": {},
   "outputs": [],
   "source": [
    "scaler = StandardScaler()\n",
    "\n",
    "scaler.fit(train_set)\n",
    "\n",
    "train_set = scaler.transform(train_set)\n",
    "test_set = scaler.transform(test_set)\n"
   ]
  },
  {
   "cell_type": "code",
   "execution_count": 30,
   "metadata": {},
   "outputs": [
    {
     "name": "stdout",
     "output_type": "stream",
     "text": [
      "Test accuracy: 97.78%\n"
     ]
    }
   ],
   "source": [
    "mlp1 = MLPClassifier(hidden_layer_sizes=(2), random_state=1, max_iter=3000)\n",
    "\n",
    "mlp1.fit(train_set, train_labels)\n",
    "\n",
    "predictions_test = mlp1.predict(test_set)\n",
    "print(\n",
    "    f\"Test accuracy: {np.round(accuracy_score(predictions_test, test_labels) * 100, 2)}%\")\n"
   ]
  },
  {
   "cell_type": "code",
   "execution_count": 31,
   "metadata": {},
   "outputs": [
    {
     "name": "stdout",
     "output_type": "stream",
     "text": [
      "Test accuracy: 95.56%\n"
     ]
    }
   ],
   "source": [
    "mlp2 = MLPClassifier(hidden_layer_sizes=(3), random_state=1, max_iter=3000)\n",
    "\n",
    "mlp2.fit(train_set, train_labels)\n",
    "\n",
    "predictions_test = mlp2.predict(test_set)\n",
    "print(\n",
    "    f\"Test accuracy: {np.round(accuracy_score(predictions_test, test_labels) * 100, 2)}%\")\n"
   ]
  },
  {
   "cell_type": "code",
   "execution_count": 32,
   "metadata": {},
   "outputs": [
    {
     "name": "stdout",
     "output_type": "stream",
     "text": [
      "Test accuracy: 95.56%\n"
     ]
    }
   ],
   "source": [
    "mlp3 = MLPClassifier(hidden_layer_sizes=(3, 3),\n",
    "                     random_state=1, max_iter=3000)\n",
    "\n",
    "mlp3.fit(train_set, train_labels)\n",
    "\n",
    "predictions_test = mlp3.predict(test_set)\n",
    "print(\n",
    "    f\"Test accuracy: {np.round(accuracy_score(predictions_test, test_labels) * 100, 2)}%\")\n"
   ]
  }
 ],
 "metadata": {
  "kernelspec": {
   "display_name": ".venv",
   "language": "python",
   "name": "python3"
  },
  "language_info": {
   "codemirror_mode": {
    "name": "ipython",
    "version": 3
   },
   "file_extension": ".py",
   "mimetype": "text/x-python",
   "name": "python",
   "nbconvert_exporter": "python",
   "pygments_lexer": "ipython3",
   "version": "3.11.3"
  },
  "orig_nbformat": 4
 },
 "nbformat": 4,
 "nbformat_minor": 2
}
