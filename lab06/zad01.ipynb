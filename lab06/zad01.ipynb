{
 "cells": [
  {
   "cell_type": "code",
   "execution_count": 6,
   "metadata": {},
   "outputs": [],
   "source": [
    "import numpy as np\n",
    "\n",
    "\n",
    "def f_act(x: float) -> float:\n",
    "    return 1 / (1 + np.exp(-x))\n",
    "\n",
    "\n",
    "def forward_pass(age: int, weight: int, height: int) -> float:\n",
    "    hidden1 = -0.46122 * age + 0.97314 * weight - 0.39203 * height + 0.80109\n",
    "    hidden1_after_activation = f_act(hidden1)\n",
    "\n",
    "    hidden2 = 0.78548 * age + 2.10584 * weight + -0.57847 * height + 0.43529\n",
    "    hidden2_after_activation = f_act(hidden2)\n",
    "\n",
    "    output = -0.81546 * hidden1_after_activation + \\\n",
    "        1.03775 * hidden2_after_activation - 0.2368\n",
    "    return output\n"
   ]
  },
  {
   "cell_type": "code",
   "execution_count": 7,
   "metadata": {},
   "outputs": [
    {
     "data": {
      "text/plain": [
       "0.7985341880063129"
      ]
     },
     "execution_count": 7,
     "metadata": {},
     "output_type": "execute_result"
    }
   ],
   "source": [
    "forward_pass(23, 75, 176)"
   ]
  }
 ],
 "metadata": {
  "kernelspec": {
   "display_name": ".venv",
   "language": "python",
   "name": "python3"
  },
  "language_info": {
   "codemirror_mode": {
    "name": "ipython",
    "version": 3
   },
   "file_extension": ".py",
   "mimetype": "text/x-python",
   "name": "python",
   "nbconvert_exporter": "python",
   "pygments_lexer": "ipython3",
   "version": "3.11.3"
  },
  "orig_nbformat": 4
 },
 "nbformat": 4,
 "nbformat_minor": 2
}
